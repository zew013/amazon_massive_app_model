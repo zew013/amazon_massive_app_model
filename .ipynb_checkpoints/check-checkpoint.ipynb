{
 "cells": [
  {
   "cell_type": "code",
   "execution_count": 1,
   "metadata": {},
   "outputs": [],
   "source": [
    "%load_ext autoreload\n",
    "%autoreload 2"
   ]
  },
  {
   "cell_type": "code",
   "execution_count": 2,
   "metadata": {},
   "outputs": [],
   "source": [
    "import main\n",
    "from argparse import Namespace\n",
    "import torch"
   ]
  },
  {
   "cell_type": "code",
   "execution_count": null,
   "metadata": {},
   "outputs": [],
   "source": [
    "import importlib\n",
    "importlib.reload(main)"
   ]
  },
  {
   "cell_type": "code",
   "execution_count": null,
   "metadata": {
    "scrolled": true
   },
   "outputs": [],
   "source": [
    "args = Namespace(task='baseline',\n",
    "                 temperature=0.7,\n",
    "                 reinit_n_layers=0,\n",
    "                 lldr=False,\n",
    "                 scheduler_type='constant',\n",
    "                 end_lr_ratio=-999999.0,\n",
    "                 warmup_steps=0,\n",
    "                 input_dir='assets',\n",
    "                 output_dir='results',\n",
    "                 model='bert',\n",
    "                 seed=42,\n",
    "                 dataset='amazon',\n",
    "                 ignore_cache=False,\n",
    "                 debug=False,\n",
    "                 do_train=False,\n",
    "                 do_eval=False,\n",
    "                 batch_size=128,\n",
    "                 learning_rate=0.0001,\n",
    "                 hidden_dim=10,\n",
    "                 drop_rate=0.9,\n",
    "                 embed_dim=10,\n",
    "                 adam_epsilon=1e-08,\n",
    "                 n_epochs=10,\n",
    "                 max_len=20,\n",
    "                 lr_decay_step=1,\n",
    "                 lr_decay_gamma=1)\n",
    "model, datasets, tokenizer = main.main(args)"
   ]
  },
  {
   "cell_type": "code",
   "execution_count": null,
   "metadata": {},
   "outputs": [],
   "source": []
  },
  {
   "cell_type": "code",
   "execution_count": null,
   "metadata": {},
   "outputs": [],
   "source": [
    "main.do_umap(args, model, datasets, split='test', b_size = 128)"
   ]
  },
  {
   "cell_type": "code",
   "execution_count": null,
   "metadata": {},
   "outputs": [],
   "source": [
    "import dataloader\n",
    "importlib.reload(dataloader)"
   ]
  },
  {
   "cell_type": "code",
   "execution_count": 3,
   "metadata": {
    "scrolled": true
   },
   "outputs": [
    {
     "name": "stdout",
     "output_type": "stream",
     "text": [
      "Loading features from cache at assets\\cache\\amazon.pkl\n",
      "train 11514\n",
      "validation 2033\n",
      "test 2974\n",
      "Setting up bert model\n"
     ]
    },
    {
     "name": "stderr",
     "output_type": "stream",
     "text": [
      "Some weights of the model checkpoint at bert-base-uncased were not used when initializing BertModel: ['cls.predictions.transform.dense.bias', 'cls.predictions.transform.LayerNorm.bias', 'cls.predictions.decoder.weight', 'cls.predictions.transform.dense.weight', 'cls.predictions.bias', 'cls.predictions.transform.LayerNorm.weight', 'cls.seq_relationship.weight', 'cls.seq_relationship.bias']\n",
      "- This IS expected if you are initializing BertModel from the checkpoint of a model trained on another task or with another architecture (e.g. initializing a BertForSequenceClassification model from a BertForPreTraining model).\n",
      "- This IS NOT expected if you are initializing BertModel from the checkpoint of a model that you expect to be exactly identical (initializing a BertForSequenceClassification model from a BertForSequenceClassification model).\n"
     ]
    },
    {
     "name": "stdout",
     "output_type": "stream",
     "text": [
      "Loaded validation data with 16 batches\n"
     ]
    },
    {
     "name": "stderr",
     "output_type": "stream",
     "text": [
      "100%|███████████████████████████████████████████████████████████████████████████| 16/16 [00:03<00:00,  4.77it/s]\n"
     ]
    },
    {
     "name": "stdout",
     "output_type": "stream",
     "text": [
      "validation acc: 0.05902606984751599 |dataset split validation size: 2033\n",
      "Loaded test data with 24 batches\n"
     ]
    },
    {
     "name": "stderr",
     "output_type": "stream",
     "text": [
      "100%|███████████████████████████████████████████████████████████████████████████| 24/24 [00:02<00:00, 10.87it/s]\n",
      "E:\\anaconda\\envs\\v1\\lib\\site-packages\\transformers\\optimization.py:306: FutureWarning: This implementation of AdamW is deprecated and will be removed in a future version. Use the PyTorch implementation torch.optim.AdamW instead, or set `no_deprecation_warning=True` to disable this warning\n",
      "  warnings.warn(\n"
     ]
    },
    {
     "name": "stdout",
     "output_type": "stream",
     "text": [
      "test acc: 0.06893073301950235 |dataset split test size: 2974\n",
      "Loaded train data with 90 batches\n",
      "init_lr 0.00013\n",
      "head_lr 0.00014\n",
      "adamw llrd\n"
     ]
    },
    {
     "name": "stderr",
     "output_type": "stream",
     "text": [
      "100%|████████████████████████████████████████████████████████████████| 90/90 [00:28<00:00,  3.15it/s, loss=2.71]\n"
     ]
    },
    {
     "name": "stdout",
     "output_type": "stream",
     "text": [
      "Loaded validation data with 16 batches\n"
     ]
    },
    {
     "name": "stderr",
     "output_type": "stream",
     "text": [
      "100%|███████████████████████████████████████████████████████████████████████████| 16/16 [00:01<00:00,  9.43it/s]\n"
     ]
    },
    {
     "name": "stdout",
     "output_type": "stream",
     "text": [
      "validation acc: 0.4599114608952287 |dataset split validation size: 2033\n",
      "epoch 0 | losses: 3.2424961646397907\n"
     ]
    },
    {
     "name": "stderr",
     "output_type": "stream",
     "text": [
      "100%|████████████████████████████████████████████████████████████████| 90/90 [00:28<00:00,  3.19it/s, loss=2.04]\n"
     ]
    },
    {
     "name": "stdout",
     "output_type": "stream",
     "text": [
      "Loaded validation data with 16 batches\n"
     ]
    },
    {
     "name": "stderr",
     "output_type": "stream",
     "text": [
      "100%|███████████████████████████████████████████████████████████████████████████| 16/16 [00:01<00:00,  9.72it/s]\n"
     ]
    },
    {
     "name": "stdout",
     "output_type": "stream",
     "text": [
      "validation acc: 0.5568125922282341 |dataset split validation size: 2033\n",
      "epoch 1 | losses: 2.3230857213338214\n"
     ]
    },
    {
     "name": "stderr",
     "output_type": "stream",
     "text": [
      "100%|████████████████████████████████████████████████████████████████| 90/90 [00:28<00:00,  3.20it/s, loss=1.97]\n"
     ]
    },
    {
     "name": "stdout",
     "output_type": "stream",
     "text": [
      "Loaded validation data with 16 batches\n"
     ]
    },
    {
     "name": "stderr",
     "output_type": "stream",
     "text": [
      "100%|███████████████████████████████████████████████████████████████████████████| 16/16 [00:01<00:00, 10.21it/s]\n"
     ]
    },
    {
     "name": "stdout",
     "output_type": "stream",
     "text": [
      "validation acc: 0.5858337432365962 |dataset split validation size: 2033\n",
      "epoch 2 | losses: 2.0562781585587397\n"
     ]
    },
    {
     "name": "stderr",
     "output_type": "stream",
     "text": [
      "100%|████████████████████████████████████████████████████████████████| 90/90 [00:28<00:00,  3.16it/s, loss=1.93]\n"
     ]
    },
    {
     "name": "stdout",
     "output_type": "stream",
     "text": [
      "Loaded validation data with 16 batches\n"
     ]
    },
    {
     "name": "stderr",
     "output_type": "stream",
     "text": [
      "100%|███████████████████████████████████████████████████████████████████████████| 16/16 [00:01<00:00, 10.08it/s]\n"
     ]
    },
    {
     "name": "stdout",
     "output_type": "stream",
     "text": [
      "validation acc: 0.6015740285292671 |dataset split validation size: 2033\n",
      "epoch 3 | losses: 1.9105003211233351\n"
     ]
    },
    {
     "name": "stderr",
     "output_type": "stream",
     "text": [
      "100%|████████████████████████████████████████████████████████████████| 90/90 [00:28<00:00,  3.19it/s, loss=1.62]\n"
     ]
    },
    {
     "name": "stdout",
     "output_type": "stream",
     "text": [
      "Loaded validation data with 16 batches\n"
     ]
    },
    {
     "name": "stderr",
     "output_type": "stream",
     "text": [
      "100%|███████████████████████████████████████████████████████████████████████████| 16/16 [00:01<00:00,  9.75it/s]\n"
     ]
    },
    {
     "name": "stdout",
     "output_type": "stream",
     "text": [
      "validation acc: 0.5986227250368913 |dataset split validation size: 2033\n",
      "epoch 4 | losses: 1.8293081998825074\n"
     ]
    },
    {
     "name": "stderr",
     "output_type": "stream",
     "text": [
      "100%|████████████████████████████████████████████████████████████████| 90/90 [00:28<00:00,  3.21it/s, loss=1.78]\n"
     ]
    },
    {
     "name": "stdout",
     "output_type": "stream",
     "text": [
      "Loaded validation data with 16 batches\n"
     ]
    },
    {
     "name": "stderr",
     "output_type": "stream",
     "text": [
      "100%|███████████████████████████████████████████████████████████████████████████| 16/16 [00:01<00:00,  9.56it/s]\n"
     ]
    },
    {
     "name": "stdout",
     "output_type": "stream",
     "text": [
      "validation acc: 0.603049680275455 |dataset split validation size: 2033\n",
      "epoch 5 | losses: 1.7785924421416388\n"
     ]
    },
    {
     "name": "stderr",
     "output_type": "stream",
     "text": [
      "100%|████████████████████████████████████████████████████████████████| 90/90 [00:28<00:00,  3.17it/s, loss=1.76]\n"
     ]
    },
    {
     "name": "stdout",
     "output_type": "stream",
     "text": [
      "Loaded validation data with 16 batches\n"
     ]
    },
    {
     "name": "stderr",
     "output_type": "stream",
     "text": [
      "100%|███████████████████████████████████████████████████████████████████████████| 16/16 [00:01<00:00,  9.97it/s]\n"
     ]
    },
    {
     "name": "stdout",
     "output_type": "stream",
     "text": [
      "validation acc: 0.6119035907525824 |dataset split validation size: 2033\n",
      "epoch 6 | losses: 1.7240768366389805\n"
     ]
    },
    {
     "name": "stderr",
     "output_type": "stream",
     "text": [
      "100%|████████████████████████████████████████████████████████████████| 90/90 [00:28<00:00,  3.18it/s, loss=1.61]\n"
     ]
    },
    {
     "name": "stdout",
     "output_type": "stream",
     "text": [
      "Loaded validation data with 16 batches\n"
     ]
    },
    {
     "name": "stderr",
     "output_type": "stream",
     "text": [
      "100%|███████████████████████████████████████████████████████████████████████████| 16/16 [00:01<00:00,  9.70it/s]\n"
     ]
    },
    {
     "name": "stdout",
     "output_type": "stream",
     "text": [
      "validation acc: 0.6128873585833743 |dataset split validation size: 2033\n",
      "epoch 7 | losses: 1.6848832766215007\n"
     ]
    },
    {
     "name": "stderr",
     "output_type": "stream",
     "text": [
      "100%|████████████████████████████████████████████████████████████████| 90/90 [00:28<00:00,  3.20it/s, loss=1.66]\n"
     ]
    },
    {
     "name": "stdout",
     "output_type": "stream",
     "text": [
      "Loaded validation data with 16 batches\n"
     ]
    },
    {
     "name": "stderr",
     "output_type": "stream",
     "text": [
      "100%|███████████████████████████████████████████████████████████████████████████| 16/16 [00:01<00:00,  9.45it/s]\n"
     ]
    },
    {
     "name": "stdout",
     "output_type": "stream",
     "text": [
      "validation acc: 0.6138711264141663 |dataset split validation size: 2033\n",
      "epoch 8 | losses: 1.6473174267345005\n"
     ]
    },
    {
     "name": "stderr",
     "output_type": "stream",
     "text": [
      "100%|████████████████████████████████████████████████████████████████| 90/90 [00:28<00:00,  3.17it/s, loss=1.56]\n"
     ]
    },
    {
     "name": "stdout",
     "output_type": "stream",
     "text": [
      "Loaded validation data with 16 batches\n"
     ]
    },
    {
     "name": "stderr",
     "output_type": "stream",
     "text": [
      "100%|███████████████████████████████████████████████████████████████████████████| 16/16 [00:01<00:00,  9.37it/s]\n"
     ]
    },
    {
     "name": "stdout",
     "output_type": "stream",
     "text": [
      "validation acc: 0.6114117068371864 |dataset split validation size: 2033\n",
      "epoch 9 | losses: 1.632899910873837\n",
      "Loaded test data with 24 batches\n"
     ]
    },
    {
     "name": "stderr",
     "output_type": "stream",
     "text": [
      "100%|███████████████████████████████████████████████████████████████████████████| 24/24 [00:02<00:00, 10.34it/s]"
     ]
    },
    {
     "name": "stdout",
     "output_type": "stream",
     "text": [
      "test acc: 0.6005379959650302 |dataset split test size: 2974\n"
     ]
    },
    {
     "name": "stderr",
     "output_type": "stream",
     "text": [
      "\n"
     ]
    }
   ],
   "source": [
    "args = Namespace(task='custom',\n",
    "                 temperature=0.7,\n",
    "                 reinit_n_layers=0,\n",
    "                 lldr=True,\n",
    "                 head_lr = 0.0001,\n",
    "                 init_lr = 0.0001,\n",
    "                 head_decay = 0.01,\n",
    "                 hidden_decay = 0.01,\n",
    "                 scheduler_type='constant',\n",
    "                 end_lr_ratio=-999999.0,\n",
    "                 warmup_steps=0,\n",
    "                 input_dir='assets',\n",
    "                 output_dir='results',\n",
    "                 model='bert',\n",
    "                 seed=42,\n",
    "                 dataset='amazon',\n",
    "                 ignore_cache=False,\n",
    "                 debug=False,\n",
    "                 do_train=False,\n",
    "                 do_eval=False,\n",
    "                 batch_size=128,\n",
    "                 learning_rate=0.0001,\n",
    "                 \n",
    "                 hidden_dim=10,\n",
    "                 drop_rate=0.5,\n",
    "                 embed_dim=10,\n",
    "                 adam_epsilon=1e-08,\n",
    "                 n_epochs=10,\n",
    "                 max_len=20,\n",
    "                 lr_decay_step=1,\n",
    "                 lr_decay_gamma=1)\n",
    "model, datasets, tokenizer = main.main(args)"
   ]
  },
  {
   "cell_type": "code",
   "execution_count": null,
   "metadata": {},
   "outputs": [],
   "source": []
  }
 ],
 "metadata": {
  "kernelspec": {
   "display_name": "Python 3 (ipykernel)",
   "language": "python",
   "name": "python3"
  },
  "language_info": {
   "codemirror_mode": {
    "name": "ipython",
    "version": 3
   },
   "file_extension": ".py",
   "mimetype": "text/x-python",
   "name": "python",
   "nbconvert_exporter": "python",
   "pygments_lexer": "ipython3",
   "version": "3.8.13"
  },
  "vscode": {
   "interpreter": {
    "hash": "d4d1e4263499bec80672ea0156c357c1ee493ec2b1c70f0acce89fc37c4a6abe"
   }
  }
 },
 "nbformat": 4,
 "nbformat_minor": 2
}
