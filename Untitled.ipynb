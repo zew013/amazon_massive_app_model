{
 "cells": [
  {
   "cell_type": "code",
   "execution_count": null,
   "id": "38132303",
   "metadata": {},
   "outputs": [],
   "source": [
    "import torch\n",
    "import main\n",
    "from argparse import Namespace\n",
    "import dill as pickle"
   ]
  },
  {
   "cell_type": "code",
   "execution_count": 10,
   "id": "629ba89a",
   "metadata": {},
   "outputs": [],
   "source": [
    "import torch\n",
    "from smart_open import open as smart_open\n",
    "import io"
   ]
  },
  {
   "cell_type": "code",
   "execution_count": 6,
   "id": "a2197701",
   "metadata": {},
   "outputs": [],
   "source": [
    "import requests"
   ]
  },
  {
   "cell_type": "code",
   "execution_count": 8,
   "id": "3bfbfa45",
   "metadata": {},
   "outputs": [
    {
     "data": {
      "text/plain": [
       "<Response [200]>"
      ]
     },
     "execution_count": 8,
     "metadata": {},
     "output_type": "execute_result"
    }
   ],
   "source": [
    "requests.get('https://amazonmassive.s3.us-west-1.amazonaws.com/model.pt')"
   ]
  },
  {
   "cell_type": "code",
   "execution_count": null,
   "id": "c7d3f3a6",
   "metadata": {},
   "outputs": [],
   "source": []
  },
  {
   "cell_type": "code",
   "execution_count": 13,
   "id": "7d4290c3",
   "metadata": {},
   "outputs": [],
   "source": [
    "\n",
    "load_path = \"https://amazonmassive.s3.us-west-1.amazonaws.com/model.pt\"\n",
    "with smart_open(load_path, 'rb') as f:\n",
    "    buffer = io.BytesIO(f.read())\n",
    "    mode=torch.load(buffer,map_location=torch.device('cpu'))\n"
   ]
  },
  {
   "cell_type": "code",
   "execution_count": 15,
   "id": "a3884337",
   "metadata": {},
   "outputs": [
    {
     "data": {
      "text/plain": [
       "CustomModel(\n",
       "  (encoder): BertModel(\n",
       "    (embeddings): BertEmbeddings(\n",
       "      (word_embeddings): Embedding(30522, 768, padding_idx=0)\n",
       "      (position_embeddings): Embedding(512, 768)\n",
       "      (token_type_embeddings): Embedding(2, 768)\n",
       "      (LayerNorm): LayerNorm((768,), eps=1e-12, elementwise_affine=True)\n",
       "      (dropout): Dropout(p=0.1, inplace=False)\n",
       "    )\n",
       "    (encoder): BertEncoder(\n",
       "      (layer): ModuleList(\n",
       "        (0): BertLayer(\n",
       "          (attention): BertAttention(\n",
       "            (self): BertSelfAttention(\n",
       "              (query): Linear(in_features=768, out_features=768, bias=True)\n",
       "              (key): Linear(in_features=768, out_features=768, bias=True)\n",
       "              (value): Linear(in_features=768, out_features=768, bias=True)\n",
       "              (dropout): Dropout(p=0.1, inplace=False)\n",
       "            )\n",
       "            (output): BertSelfOutput(\n",
       "              (dense): Linear(in_features=768, out_features=768, bias=True)\n",
       "              (LayerNorm): LayerNorm((768,), eps=1e-12, elementwise_affine=True)\n",
       "              (dropout): Dropout(p=0.1, inplace=False)\n",
       "            )\n",
       "          )\n",
       "          (intermediate): BertIntermediate(\n",
       "            (dense): Linear(in_features=768, out_features=3072, bias=True)\n",
       "            (intermediate_act_fn): GELUActivation()\n",
       "          )\n",
       "          (output): BertOutput(\n",
       "            (dense): Linear(in_features=3072, out_features=768, bias=True)\n",
       "            (LayerNorm): LayerNorm((768,), eps=1e-12, elementwise_affine=True)\n",
       "            (dropout): Dropout(p=0.1, inplace=False)\n",
       "          )\n",
       "        )\n",
       "        (1): BertLayer(\n",
       "          (attention): BertAttention(\n",
       "            (self): BertSelfAttention(\n",
       "              (query): Linear(in_features=768, out_features=768, bias=True)\n",
       "              (key): Linear(in_features=768, out_features=768, bias=True)\n",
       "              (value): Linear(in_features=768, out_features=768, bias=True)\n",
       "              (dropout): Dropout(p=0.1, inplace=False)\n",
       "            )\n",
       "            (output): BertSelfOutput(\n",
       "              (dense): Linear(in_features=768, out_features=768, bias=True)\n",
       "              (LayerNorm): LayerNorm((768,), eps=1e-12, elementwise_affine=True)\n",
       "              (dropout): Dropout(p=0.1, inplace=False)\n",
       "            )\n",
       "          )\n",
       "          (intermediate): BertIntermediate(\n",
       "            (dense): Linear(in_features=768, out_features=3072, bias=True)\n",
       "            (intermediate_act_fn): GELUActivation()\n",
       "          )\n",
       "          (output): BertOutput(\n",
       "            (dense): Linear(in_features=3072, out_features=768, bias=True)\n",
       "            (LayerNorm): LayerNorm((768,), eps=1e-12, elementwise_affine=True)\n",
       "            (dropout): Dropout(p=0.1, inplace=False)\n",
       "          )\n",
       "        )\n",
       "        (2): BertLayer(\n",
       "          (attention): BertAttention(\n",
       "            (self): BertSelfAttention(\n",
       "              (query): Linear(in_features=768, out_features=768, bias=True)\n",
       "              (key): Linear(in_features=768, out_features=768, bias=True)\n",
       "              (value): Linear(in_features=768, out_features=768, bias=True)\n",
       "              (dropout): Dropout(p=0.1, inplace=False)\n",
       "            )\n",
       "            (output): BertSelfOutput(\n",
       "              (dense): Linear(in_features=768, out_features=768, bias=True)\n",
       "              (LayerNorm): LayerNorm((768,), eps=1e-12, elementwise_affine=True)\n",
       "              (dropout): Dropout(p=0.1, inplace=False)\n",
       "            )\n",
       "          )\n",
       "          (intermediate): BertIntermediate(\n",
       "            (dense): Linear(in_features=768, out_features=3072, bias=True)\n",
       "            (intermediate_act_fn): GELUActivation()\n",
       "          )\n",
       "          (output): BertOutput(\n",
       "            (dense): Linear(in_features=3072, out_features=768, bias=True)\n",
       "            (LayerNorm): LayerNorm((768,), eps=1e-12, elementwise_affine=True)\n",
       "            (dropout): Dropout(p=0.1, inplace=False)\n",
       "          )\n",
       "        )\n",
       "        (3): BertLayer(\n",
       "          (attention): BertAttention(\n",
       "            (self): BertSelfAttention(\n",
       "              (query): Linear(in_features=768, out_features=768, bias=True)\n",
       "              (key): Linear(in_features=768, out_features=768, bias=True)\n",
       "              (value): Linear(in_features=768, out_features=768, bias=True)\n",
       "              (dropout): Dropout(p=0.1, inplace=False)\n",
       "            )\n",
       "            (output): BertSelfOutput(\n",
       "              (dense): Linear(in_features=768, out_features=768, bias=True)\n",
       "              (LayerNorm): LayerNorm((768,), eps=1e-12, elementwise_affine=True)\n",
       "              (dropout): Dropout(p=0.1, inplace=False)\n",
       "            )\n",
       "          )\n",
       "          (intermediate): BertIntermediate(\n",
       "            (dense): Linear(in_features=768, out_features=3072, bias=True)\n",
       "            (intermediate_act_fn): GELUActivation()\n",
       "          )\n",
       "          (output): BertOutput(\n",
       "            (dense): Linear(in_features=3072, out_features=768, bias=True)\n",
       "            (LayerNorm): LayerNorm((768,), eps=1e-12, elementwise_affine=True)\n",
       "            (dropout): Dropout(p=0.1, inplace=False)\n",
       "          )\n",
       "        )\n",
       "        (4): BertLayer(\n",
       "          (attention): BertAttention(\n",
       "            (self): BertSelfAttention(\n",
       "              (query): Linear(in_features=768, out_features=768, bias=True)\n",
       "              (key): Linear(in_features=768, out_features=768, bias=True)\n",
       "              (value): Linear(in_features=768, out_features=768, bias=True)\n",
       "              (dropout): Dropout(p=0.1, inplace=False)\n",
       "            )\n",
       "            (output): BertSelfOutput(\n",
       "              (dense): Linear(in_features=768, out_features=768, bias=True)\n",
       "              (LayerNorm): LayerNorm((768,), eps=1e-12, elementwise_affine=True)\n",
       "              (dropout): Dropout(p=0.1, inplace=False)\n",
       "            )\n",
       "          )\n",
       "          (intermediate): BertIntermediate(\n",
       "            (dense): Linear(in_features=768, out_features=3072, bias=True)\n",
       "            (intermediate_act_fn): GELUActivation()\n",
       "          )\n",
       "          (output): BertOutput(\n",
       "            (dense): Linear(in_features=3072, out_features=768, bias=True)\n",
       "            (LayerNorm): LayerNorm((768,), eps=1e-12, elementwise_affine=True)\n",
       "            (dropout): Dropout(p=0.1, inplace=False)\n",
       "          )\n",
       "        )\n",
       "        (5): BertLayer(\n",
       "          (attention): BertAttention(\n",
       "            (self): BertSelfAttention(\n",
       "              (query): Linear(in_features=768, out_features=768, bias=True)\n",
       "              (key): Linear(in_features=768, out_features=768, bias=True)\n",
       "              (value): Linear(in_features=768, out_features=768, bias=True)\n",
       "              (dropout): Dropout(p=0.1, inplace=False)\n",
       "            )\n",
       "            (output): BertSelfOutput(\n",
       "              (dense): Linear(in_features=768, out_features=768, bias=True)\n",
       "              (LayerNorm): LayerNorm((768,), eps=1e-12, elementwise_affine=True)\n",
       "              (dropout): Dropout(p=0.1, inplace=False)\n",
       "            )\n",
       "          )\n",
       "          (intermediate): BertIntermediate(\n",
       "            (dense): Linear(in_features=768, out_features=3072, bias=True)\n",
       "            (intermediate_act_fn): GELUActivation()\n",
       "          )\n",
       "          (output): BertOutput(\n",
       "            (dense): Linear(in_features=3072, out_features=768, bias=True)\n",
       "            (LayerNorm): LayerNorm((768,), eps=1e-12, elementwise_affine=True)\n",
       "            (dropout): Dropout(p=0.1, inplace=False)\n",
       "          )\n",
       "        )\n",
       "        (6): BertLayer(\n",
       "          (attention): BertAttention(\n",
       "            (self): BertSelfAttention(\n",
       "              (query): Linear(in_features=768, out_features=768, bias=True)\n",
       "              (key): Linear(in_features=768, out_features=768, bias=True)\n",
       "              (value): Linear(in_features=768, out_features=768, bias=True)\n",
       "              (dropout): Dropout(p=0.1, inplace=False)\n",
       "            )\n",
       "            (output): BertSelfOutput(\n",
       "              (dense): Linear(in_features=768, out_features=768, bias=True)\n",
       "              (LayerNorm): LayerNorm((768,), eps=1e-12, elementwise_affine=True)\n",
       "              (dropout): Dropout(p=0.1, inplace=False)\n",
       "            )\n",
       "          )\n",
       "          (intermediate): BertIntermediate(\n",
       "            (dense): Linear(in_features=768, out_features=3072, bias=True)\n",
       "            (intermediate_act_fn): GELUActivation()\n",
       "          )\n",
       "          (output): BertOutput(\n",
       "            (dense): Linear(in_features=3072, out_features=768, bias=True)\n",
       "            (LayerNorm): LayerNorm((768,), eps=1e-12, elementwise_affine=True)\n",
       "            (dropout): Dropout(p=0.1, inplace=False)\n",
       "          )\n",
       "        )\n",
       "        (7): BertLayer(\n",
       "          (attention): BertAttention(\n",
       "            (self): BertSelfAttention(\n",
       "              (query): Linear(in_features=768, out_features=768, bias=True)\n",
       "              (key): Linear(in_features=768, out_features=768, bias=True)\n",
       "              (value): Linear(in_features=768, out_features=768, bias=True)\n",
       "              (dropout): Dropout(p=0.1, inplace=False)\n",
       "            )\n",
       "            (output): BertSelfOutput(\n",
       "              (dense): Linear(in_features=768, out_features=768, bias=True)\n",
       "              (LayerNorm): LayerNorm((768,), eps=1e-12, elementwise_affine=True)\n",
       "              (dropout): Dropout(p=0.1, inplace=False)\n",
       "            )\n",
       "          )\n",
       "          (intermediate): BertIntermediate(\n",
       "            (dense): Linear(in_features=768, out_features=3072, bias=True)\n",
       "            (intermediate_act_fn): GELUActivation()\n",
       "          )\n",
       "          (output): BertOutput(\n",
       "            (dense): Linear(in_features=3072, out_features=768, bias=True)\n",
       "            (LayerNorm): LayerNorm((768,), eps=1e-12, elementwise_affine=True)\n",
       "            (dropout): Dropout(p=0.1, inplace=False)\n",
       "          )\n",
       "        )\n",
       "        (8): BertLayer(\n",
       "          (attention): BertAttention(\n",
       "            (self): BertSelfAttention(\n",
       "              (query): Linear(in_features=768, out_features=768, bias=True)\n",
       "              (key): Linear(in_features=768, out_features=768, bias=True)\n",
       "              (value): Linear(in_features=768, out_features=768, bias=True)\n",
       "              (dropout): Dropout(p=0.1, inplace=False)\n",
       "            )\n",
       "            (output): BertSelfOutput(\n",
       "              (dense): Linear(in_features=768, out_features=768, bias=True)\n",
       "              (LayerNorm): LayerNorm((768,), eps=1e-12, elementwise_affine=True)\n",
       "              (dropout): Dropout(p=0.1, inplace=False)\n",
       "            )\n",
       "          )\n",
       "          (intermediate): BertIntermediate(\n",
       "            (dense): Linear(in_features=768, out_features=3072, bias=True)\n",
       "            (intermediate_act_fn): GELUActivation()\n",
       "          )\n",
       "          (output): BertOutput(\n",
       "            (dense): Linear(in_features=3072, out_features=768, bias=True)\n",
       "            (LayerNorm): LayerNorm((768,), eps=1e-12, elementwise_affine=True)\n",
       "            (dropout): Dropout(p=0.1, inplace=False)\n",
       "          )\n",
       "        )\n",
       "        (9): BertLayer(\n",
       "          (attention): BertAttention(\n",
       "            (self): BertSelfAttention(\n",
       "              (query): Linear(in_features=768, out_features=768, bias=True)\n",
       "              (key): Linear(in_features=768, out_features=768, bias=True)\n",
       "              (value): Linear(in_features=768, out_features=768, bias=True)\n",
       "              (dropout): Dropout(p=0.1, inplace=False)\n",
       "            )\n",
       "            (output): BertSelfOutput(\n",
       "              (dense): Linear(in_features=768, out_features=768, bias=True)\n",
       "              (LayerNorm): LayerNorm((768,), eps=1e-12, elementwise_affine=True)\n",
       "              (dropout): Dropout(p=0.1, inplace=False)\n",
       "            )\n",
       "          )\n",
       "          (intermediate): BertIntermediate(\n",
       "            (dense): Linear(in_features=768, out_features=3072, bias=True)\n",
       "            (intermediate_act_fn): GELUActivation()\n",
       "          )\n",
       "          (output): BertOutput(\n",
       "            (dense): Linear(in_features=3072, out_features=768, bias=True)\n",
       "            (LayerNorm): LayerNorm((768,), eps=1e-12, elementwise_affine=True)\n",
       "            (dropout): Dropout(p=0.1, inplace=False)\n",
       "          )\n",
       "        )\n",
       "        (10): BertLayer(\n",
       "          (attention): BertAttention(\n",
       "            (self): BertSelfAttention(\n",
       "              (query): Linear(in_features=768, out_features=768, bias=True)\n",
       "              (key): Linear(in_features=768, out_features=768, bias=True)\n",
       "              (value): Linear(in_features=768, out_features=768, bias=True)\n",
       "              (dropout): Dropout(p=0.1, inplace=False)\n",
       "            )\n",
       "            (output): BertSelfOutput(\n",
       "              (dense): Linear(in_features=768, out_features=768, bias=True)\n",
       "              (LayerNorm): LayerNorm((768,), eps=1e-12, elementwise_affine=True)\n",
       "              (dropout): Dropout(p=0.1, inplace=False)\n",
       "            )\n",
       "          )\n",
       "          (intermediate): BertIntermediate(\n",
       "            (dense): Linear(in_features=768, out_features=3072, bias=True)\n",
       "            (intermediate_act_fn): GELUActivation()\n",
       "          )\n",
       "          (output): BertOutput(\n",
       "            (dense): Linear(in_features=3072, out_features=768, bias=True)\n",
       "            (LayerNorm): LayerNorm((768,), eps=1e-12, elementwise_affine=True)\n",
       "            (dropout): Dropout(p=0.1, inplace=False)\n",
       "          )\n",
       "        )\n",
       "        (11): BertLayer(\n",
       "          (attention): BertAttention(\n",
       "            (self): BertSelfAttention(\n",
       "              (query): Linear(in_features=768, out_features=768, bias=True)\n",
       "              (key): Linear(in_features=768, out_features=768, bias=True)\n",
       "              (value): Linear(in_features=768, out_features=768, bias=True)\n",
       "              (dropout): Dropout(p=0.1, inplace=False)\n",
       "            )\n",
       "            (output): BertSelfOutput(\n",
       "              (dense): Linear(in_features=768, out_features=768, bias=True)\n",
       "              (LayerNorm): LayerNorm((768,), eps=1e-12, elementwise_affine=True)\n",
       "              (dropout): Dropout(p=0.1, inplace=False)\n",
       "            )\n",
       "          )\n",
       "          (intermediate): BertIntermediate(\n",
       "            (dense): Linear(in_features=768, out_features=3072, bias=True)\n",
       "            (intermediate_act_fn): GELUActivation()\n",
       "          )\n",
       "          (output): BertOutput(\n",
       "            (dense): Linear(in_features=3072, out_features=768, bias=True)\n",
       "            (LayerNorm): LayerNorm((768,), eps=1e-12, elementwise_affine=True)\n",
       "            (dropout): Dropout(p=0.1, inplace=False)\n",
       "          )\n",
       "        )\n",
       "      )\n",
       "    )\n",
       "    (pooler): BertPooler(\n",
       "      (dense): Linear(in_features=768, out_features=768, bias=True)\n",
       "      (activation): Tanh()\n",
       "    )\n",
       "  )\n",
       "  (dropout): Dropout(p=0.5, inplace=False)\n",
       "  (classifier): Classifier(\n",
       "    (top): Linear(in_features=768, out_features=10, bias=True)\n",
       "    (relu): ReLU()\n",
       "    (bottom): Linear(in_features=10, out_features=60, bias=True)\n",
       "  )\n",
       ")"
      ]
     },
     "execution_count": 15,
     "metadata": {},
     "output_type": "execute_result"
    }
   ],
   "source": [
    "mode"
   ]
  },
  {
   "cell_type": "code",
   "execution_count": 3,
   "id": "286da0d8",
   "metadata": {},
   "outputs": [],
   "source": [
    "import torch\n",
    "from transformers import AutoModel"
   ]
  },
  {
   "cell_type": "raw",
   "id": "6a2d42af",
   "metadata": {},
   "source": [
    "\n",
    "model = AutoModel.from_pretrained(\"ZelongWang/amazonintentAlan\")"
   ]
  },
  {
   "cell_type": "code",
   "execution_count": null,
   "id": "4ff3ef98",
   "metadata": {},
   "outputs": [],
   "source": []
  },
  {
   "cell_type": "code",
   "execution_count": null,
   "id": "9e57c862",
   "metadata": {},
   "outputs": [],
   "source": [
    "device='cuda'"
   ]
  },
  {
   "cell_type": "code",
   "execution_count": null,
   "id": "045e7def",
   "metadata": {},
   "outputs": [],
   "source": [
    "x = torch.tensor([0, 1, 2, 3, 4]).to(device)\n",
    "torch.save(x, './saved_model/model.pt')\n",
    "x"
   ]
  },
  {
   "cell_type": "code",
   "execution_count": null,
   "id": "a945eba3",
   "metadata": {},
   "outputs": [],
   "source": [
    "a = torch.load('./saved_model/model.pt', map_location=lambda storage, loc: storage.cuda())\n",
    "a"
   ]
  },
  {
   "cell_type": "code",
   "execution_count": null,
   "id": "3fd37fa4",
   "metadata": {},
   "outputs": [],
   "source": [
    "a"
   ]
  },
  {
   "cell_type": "code",
   "execution_count": null,
   "id": "16346cd1",
   "metadata": {
    "scrolled": true
   },
   "outputs": [],
   "source": [
    "args = Namespace(task='custom',\n",
    "                 temperature=0.7,\n",
    "                 reinit_n_layers=0,\n",
    "                 lldr=False,\n",
    "                 scheduler_type='constant',\n",
    "                 end_lr_ratio=-999999.0,\n",
    "                 warmup_steps=0,\n",
    "                 input_dir='assets',\n",
    "                 output_dir='results',\n",
    "                 model='bert',\n",
    "                 seed=42,\n",
    "                 dataset='amazon',\n",
    "                 ignore_cache=False,\n",
    "                 debug=False,\n",
    "                 do_train=False,\n",
    "                 do_eval=False,\n",
    "                 batch_size=128,\n",
    "                 learning_rate=0.0001,\n",
    "                 hidden_dim=10,\n",
    "                 drop_rate=0.5,\n",
    "                 embed_dim=10,\n",
    "                 adam_epsilon=1e-08,\n",
    "                 n_epochs=10,\n",
    "                 max_len=20,\n",
    "                 lr_decay_step=1,\n",
    "                 lr_decay_gamma=1)\n",
    "model, datasets, tokenizer = main.main(args)"
   ]
  },
  {
   "cell_type": "code",
   "execution_count": null,
   "id": "ce136798",
   "metadata": {},
   "outputs": [],
   "source": [
    "model.to(torch.device(\"cpu\"))"
   ]
  },
  {
   "cell_type": "code",
   "execution_count": null,
   "id": "0e2bf645",
   "metadata": {},
   "outputs": [],
   "source": [
    "model.cpu(）"
   ]
  },
  {
   "cell_type": "code",
   "execution_count": null,
   "id": "58a8d088",
   "metadata": {},
   "outputs": [],
   "source": [
    "torch.save(model, './saved_model/model.pt')"
   ]
  },
  {
   "cell_type": "code",
   "execution_count": null,
   "id": "f0efc914",
   "metadata": {},
   "outputs": [],
   "source": [
    "model = torch.load('./saved_model/model.pt')"
   ]
  },
  {
   "cell_type": "code",
   "execution_count": null,
   "id": "b03c3526",
   "metadata": {},
   "outputs": [],
   "source": [
    "from transformers import BertTokenizer\n",
    "tokenizer = BertTokenizer.from_pretrained(\"bert-base-uncased\", truncation_side=\"left\")"
   ]
  },
  {
   "cell_type": "code",
   "execution_count": null,
   "id": "5d791291",
   "metadata": {
    "scrolled": false
   },
   "outputs": [],
   "source": [
    "a = tokenizer(['set up alarm', 'afejfe', 'I am so happy', 'who are you', 'tell me how to make beef shank'], padding='max_length', truncation=True, max_length=5)\n",
    "a"
   ]
  },
  {
   "cell_type": "code",
   "execution_count": null,
   "id": "2083ec79",
   "metadata": {},
   "outputs": [],
   "source": [
    "for key, value in a.items():\n",
    "    a[key] = torch.tensor(value).to(device)"
   ]
  },
  {
   "cell_type": "code",
   "execution_count": null,
   "id": "a7a47f4e",
   "metadata": {
    "scrolled": false
   },
   "outputs": [],
   "source": [
    "a"
   ]
  },
  {
   "cell_type": "raw",
   "id": "afc834ca",
   "metadata": {},
   "source": [
    "btt = [b.to(device) for b in a[:4]]"
   ]
  },
  {
   "cell_type": "code",
   "execution_count": null,
   "id": "2d3d994d",
   "metadata": {
    "scrolled": true
   },
   "outputs": [],
   "source": [
    "model(a, None )"
   ]
  },
  {
   "cell_type": "code",
   "execution_count": null,
   "id": "c4f47907",
   "metadata": {
    "scrolled": false
   },
   "outputs": [],
   "source": [
    "s = torch.nn.functional.softmax(model(a, None ))\n",
    "s.sum(axis = 1)"
   ]
  },
  {
   "cell_type": "code",
   "execution_count": null,
   "id": "57188b41",
   "metadata": {
    "scrolled": true
   },
   "outputs": [],
   "source": [
    "s.max(axis = 1).values.cpu().detach().numpy()"
   ]
  },
  {
   "cell_type": "code",
   "execution_count": null,
   "id": "2407657e",
   "metadata": {
    "scrolled": true
   },
   "outputs": [],
   "source": [
    "s.cpu().detach().numpy().argmax(1)"
   ]
  },
  {
   "cell_type": "code",
   "execution_count": null,
   "id": "34f8e3f4",
   "metadata": {
    "scrolled": false
   },
   "outputs": [],
   "source": [
    "s.argmax(1).cpu().numpy()"
   ]
  },
  {
   "cell_type": "code",
   "execution_count": null,
   "id": "40f21a9d",
   "metadata": {},
   "outputs": [],
   "source": [
    "s1 = s.cpu().detach().numpy()"
   ]
  },
  {
   "cell_type": "code",
   "execution_count": null,
   "id": "ea1f7a0b",
   "metadata": {
    "scrolled": true
   },
   "outputs": [],
   "source": [
    "s1"
   ]
  },
  {
   "cell_type": "code",
   "execution_count": null,
   "id": "79c7af94",
   "metadata": {},
   "outputs": [],
   "source": [
    "np.argpartition(s1, -4, 1)[: , -4:]"
   ]
  },
  {
   "cell_type": "code",
   "execution_count": null,
   "id": "fcebf38b",
   "metadata": {},
   "outputs": [],
   "source": [
    "temp = np.array([1,2,3,0,9])\n",
    "sorted(temp)"
   ]
  },
  {
   "cell_type": "code",
   "execution_count": null,
   "id": "07ce3c27",
   "metadata": {},
   "outputs": [],
   "source": [
    "np.argsort(temp)[-2:][::-1]"
   ]
  },
  {
   "cell_type": "code",
   "execution_count": null,
   "id": "b923b728",
   "metadata": {},
   "outputs": [],
   "source": [
    "model(a, None ).sum(axis = 1)"
   ]
  },
  {
   "cell_type": "code",
   "execution_count": null,
   "id": "861f5513",
   "metadata": {},
   "outputs": [],
   "source": [
    "import numpy as np"
   ]
  },
  {
   "cell_type": "code",
   "execution_count": null,
   "id": "abd24161",
   "metadata": {},
   "outputs": [],
   "source": [
    "np.array(INTENTS)[s.argmax(1).cpu().numpy()]"
   ]
  },
  {
   "cell_type": "code",
   "execution_count": null,
   "id": "83dcd9b8",
   "metadata": {},
   "outputs": [],
   "source": [
    "INTENTS = [\n",
    "    \"datetime_query\",\n",
    "    \"iot_hue_lightchange\",\n",
    "    \"transport_ticket\",\n",
    "    \"takeaway_query\",\n",
    "    \"qa_stock\",\n",
    "    \"general_greet\",\n",
    "    \"recommendation_events\",\n",
    "    \"music_dislikeness\",\n",
    "    \"iot_wemo_off\",\n",
    "    \"cooking_recipe\",\n",
    "    \"qa_currency\",\n",
    "    \"transport_traffic\",\n",
    "    \"general_quirky\",\n",
    "    \"weather_query\",\n",
    "    \"audio_volume_up\",\n",
    "    \"email_addcontact\",\n",
    "    \"takeaway_order\",\n",
    "    \"email_querycontact\",\n",
    "    \"iot_hue_lightup\",\n",
    "    \"recommendation_locations\",\n",
    "    \"play_audiobook\",\n",
    "    \"lists_createoradd\",\n",
    "    \"news_query\",\n",
    "    \"alarm_query\",\n",
    "    \"iot_wemo_on\",\n",
    "    \"general_joke\",\n",
    "    \"qa_definition\",\n",
    "    \"social_query\",\n",
    "    \"music_settings\",\n",
    "    \"audio_volume_other\",\n",
    "    \"calendar_remove\",\n",
    "    \"iot_hue_lightdim\",\n",
    "    \"calendar_query\",\n",
    "    \"email_sendemail\",\n",
    "    \"iot_cleaning\",\n",
    "    \"audio_volume_down\",\n",
    "    \"play_radio\",\n",
    "    \"cooking_query\",\n",
    "    \"datetime_convert\",\n",
    "    \"qa_maths\",\n",
    "    \"iot_hue_lightoff\",\n",
    "    \"iot_hue_lighton\",\n",
    "    \"transport_query\",\n",
    "    \"music_likeness\",\n",
    "    \"email_query\",\n",
    "    \"play_music\",\n",
    "    \"audio_volume_mute\",\n",
    "    \"social_post\",\n",
    "    \"alarm_set\",\n",
    "    \"qa_factoid\",\n",
    "    \"calendar_set\",\n",
    "    \"play_game\",\n",
    "    \"alarm_remove\",\n",
    "    \"lists_remove\",\n",
    "    \"transport_taxi\",\n",
    "    \"recommendation_movies\",\n",
    "    \"iot_coffee\",\n",
    "    \"music_query\",\n",
    "    \"play_podcasts\",\n",
    "    \"lists_query\",\n",
    "]"
   ]
  },
  {
   "cell_type": "code",
   "execution_count": null,
   "id": "135f75ca",
   "metadata": {
    "scrolled": true
   },
   "outputs": [],
   "source": [
    "dic1 = {i:j for i, j in enumerate(INTENTS)}\n",
    "dic2 = {j:i for i, j in enumerate(INTENTS)}\n",
    "dic"
   ]
  },
  {
   "cell_type": "code",
   "execution_count": null,
   "id": "be01b28f",
   "metadata": {},
   "outputs": [],
   "source": [
    "dic[12]"
   ]
  },
  {
   "cell_type": "code",
   "execution_count": null,
   "id": "5ba69578",
   "metadata": {},
   "outputs": [],
   "source": []
  }
 ],
 "metadata": {
  "kernelspec": {
   "display_name": "Python 3 (ipykernel)",
   "language": "python",
   "name": "python3"
  },
  "language_info": {
   "codemirror_mode": {
    "name": "ipython",
    "version": 3
   },
   "file_extension": ".py",
   "mimetype": "text/x-python",
   "name": "python",
   "nbconvert_exporter": "python",
   "pygments_lexer": "ipython3",
   "version": "3.9.15"
  }
 },
 "nbformat": 4,
 "nbformat_minor": 5
}
