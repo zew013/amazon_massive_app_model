{
 "cells": [
  {
   "cell_type": "code",
   "execution_count": 1,
   "id": "38132303",
   "metadata": {},
   "outputs": [],
   "source": [
    "import torch\n",
    "import main\n",
    "from argparse import Namespace\n",
    "import dill as pickle"
   ]
  },
  {
   "cell_type": "code",
   "execution_count": 2,
   "id": "9e57c862",
   "metadata": {},
   "outputs": [],
   "source": [
    "device='cuda'"
   ]
  },
  {
   "cell_type": "code",
   "execution_count": null,
   "id": "045e7def",
   "metadata": {},
   "outputs": [],
   "source": [
    "x = torch.tensor([0, 1, 2, 3, 4]).to(device)\n",
    "torch.save(x, './saved_model/model.pt')\n",
    "x"
   ]
  },
  {
   "cell_type": "code",
   "execution_count": null,
   "id": "a945eba3",
   "metadata": {},
   "outputs": [],
   "source": [
    "a = torch.load('./saved_model/model.pt', map_location=lambda storage, loc: storage.cuda())\n",
    "a"
   ]
  },
  {
   "cell_type": "code",
   "execution_count": null,
   "id": "3fd37fa4",
   "metadata": {},
   "outputs": [],
   "source": [
    "a"
   ]
  },
  {
   "cell_type": "code",
   "execution_count": 3,
   "id": "16346cd1",
   "metadata": {
    "scrolled": true
   },
   "outputs": [
    {
     "name": "stdout",
     "output_type": "stream",
     "text": [
      "Loading features from cache at assets\\cache\\amazon.pkl\n",
      "train 11514\n",
      "validation 2033\n",
      "test 2974\n",
      "Setting up bert model\n"
     ]
    },
    {
     "name": "stderr",
     "output_type": "stream",
     "text": [
      "Some weights of the model checkpoint at bert-base-uncased were not used when initializing BertModel: ['cls.predictions.bias', 'cls.predictions.decoder.weight', 'cls.seq_relationship.bias', 'cls.predictions.transform.LayerNorm.bias', 'cls.predictions.transform.LayerNorm.weight', 'cls.predictions.transform.dense.weight', 'cls.predictions.transform.dense.bias', 'cls.seq_relationship.weight']\n",
      "- This IS expected if you are initializing BertModel from the checkpoint of a model trained on another task or with another architecture (e.g. initializing a BertForSequenceClassification model from a BertForPreTraining model).\n",
      "- This IS NOT expected if you are initializing BertModel from the checkpoint of a model that you expect to be exactly identical (initializing a BertForSequenceClassification model from a BertForSequenceClassification model).\n"
     ]
    },
    {
     "name": "stdout",
     "output_type": "stream",
     "text": [
      "Loaded validation data with 16 batches\n"
     ]
    },
    {
     "name": "stderr",
     "output_type": "stream",
     "text": [
      "100%|██████████████████████████████████████████████████████████████████████████████████| 16/16 [00:03<00:00,  5.04it/s]\n"
     ]
    },
    {
     "name": "stdout",
     "output_type": "stream",
     "text": [
      "validation acc: 0.05902606984751599 |dataset split validation size: 2033\n",
      "Loaded test data with 24 batches\n"
     ]
    },
    {
     "name": "stderr",
     "output_type": "stream",
     "text": [
      "100%|██████████████████████████████████████████████████████████████████████████████████| 24/24 [00:02<00:00, 11.22it/s]\n"
     ]
    },
    {
     "name": "stdout",
     "output_type": "stream",
     "text": [
      "test acc: 0.06893073301950235 |dataset split test size: 2974\n",
      "Loaded train data with 90 batches\n"
     ]
    },
    {
     "name": "stderr",
     "output_type": "stream",
     "text": [
      "100%|███████████████████████████████████████████████████████████████████████| 90/90 [00:27<00:00,  3.25it/s, loss=2.53]\n"
     ]
    },
    {
     "name": "stdout",
     "output_type": "stream",
     "text": [
      "Loaded validation data with 16 batches\n"
     ]
    },
    {
     "name": "stderr",
     "output_type": "stream",
     "text": [
      "100%|██████████████████████████████████████████████████████████████████████████████████| 16/16 [00:01<00:00, 10.17it/s]\n"
     ]
    },
    {
     "name": "stdout",
     "output_type": "stream",
     "text": [
      "validation acc: 0.5213969503197246 |dataset split validation size: 2033\n",
      "epoch 0 | losses: 3.161572085486518\n"
     ]
    },
    {
     "name": "stderr",
     "output_type": "stream",
     "text": [
      "100%|███████████████████████████████████████████████████████████████████████| 90/90 [00:28<00:00,  3.21it/s, loss=1.62]\n"
     ]
    },
    {
     "name": "stdout",
     "output_type": "stream",
     "text": [
      "Loaded validation data with 16 batches\n"
     ]
    },
    {
     "name": "stderr",
     "output_type": "stream",
     "text": [
      "100%|██████████████████████████████████████████████████████████████████████████████████| 16/16 [00:01<00:00, 10.14it/s]\n"
     ]
    },
    {
     "name": "stdout",
     "output_type": "stream",
     "text": [
      "validation acc: 0.5991146089522873 |dataset split validation size: 2033\n",
      "epoch 1 | losses: 1.9529051661491394\n"
     ]
    },
    {
     "name": "stderr",
     "output_type": "stream",
     "text": [
      "100%|███████████████████████████████████████████████████████████████████████| 90/90 [00:28<00:00,  3.17it/s, loss=1.26]\n"
     ]
    },
    {
     "name": "stdout",
     "output_type": "stream",
     "text": [
      "Loaded validation data with 16 batches\n"
     ]
    },
    {
     "name": "stderr",
     "output_type": "stream",
     "text": [
      "100%|██████████████████████████████████████████████████████████████████████████████████| 16/16 [00:01<00:00,  9.74it/s]\n"
     ]
    },
    {
     "name": "stdout",
     "output_type": "stream",
     "text": [
      "validation acc: 0.6886374815543532 |dataset split validation size: 2033\n",
      "epoch 2 | losses: 1.3670749545097352\n"
     ]
    },
    {
     "name": "stderr",
     "output_type": "stream",
     "text": [
      "100%|███████████████████████████████████████████████████████████████████████| 90/90 [00:28<00:00,  3.14it/s, loss=1.01]\n"
     ]
    },
    {
     "name": "stdout",
     "output_type": "stream",
     "text": [
      "Loaded validation data with 16 batches\n"
     ]
    },
    {
     "name": "stderr",
     "output_type": "stream",
     "text": [
      "100%|██████████████████████████████████████████████████████████████████████████████████| 16/16 [00:01<00:00, 10.76it/s]\n"
     ]
    },
    {
     "name": "stdout",
     "output_type": "stream",
     "text": [
      "validation acc: 0.7515986227250369 |dataset split validation size: 2033\n",
      "epoch 3 | losses: 1.0449783510631985\n"
     ]
    },
    {
     "name": "stderr",
     "output_type": "stream",
     "text": [
      "100%|██████████████████████████████████████████████████████████████████████| 90/90 [00:29<00:00,  3.03it/s, loss=0.644]\n"
     ]
    },
    {
     "name": "stdout",
     "output_type": "stream",
     "text": [
      "Loaded validation data with 16 batches\n"
     ]
    },
    {
     "name": "stderr",
     "output_type": "stream",
     "text": [
      "100%|██████████████████████████████████████████████████████████████████████████████████| 16/16 [00:01<00:00,  9.07it/s]\n"
     ]
    },
    {
     "name": "stdout",
     "output_type": "stream",
     "text": [
      "validation acc: 0.8145597638957206 |dataset split validation size: 2033\n",
      "epoch 4 | losses: 0.8063751094871097\n"
     ]
    },
    {
     "name": "stderr",
     "output_type": "stream",
     "text": [
      "100%|██████████████████████████████████████████████████████████████████████| 90/90 [00:29<00:00,  3.04it/s, loss=0.503]\n"
     ]
    },
    {
     "name": "stdout",
     "output_type": "stream",
     "text": [
      "Loaded validation data with 16 batches\n"
     ]
    },
    {
     "name": "stderr",
     "output_type": "stream",
     "text": [
      "100%|██████████████████████████████████████████████████████████████████████████████████| 16/16 [00:01<00:00,  9.63it/s]\n"
     ]
    },
    {
     "name": "stdout",
     "output_type": "stream",
     "text": [
      "validation acc: 0.8106246925725529 |dataset split validation size: 2033\n",
      "epoch 5 | losses: 0.6361798057953517\n"
     ]
    },
    {
     "name": "stderr",
     "output_type": "stream",
     "text": [
      "100%|███████████████████████████████████████████████████████████████████████| 90/90 [00:29<00:00,  3.05it/s, loss=0.43]\n"
     ]
    },
    {
     "name": "stdout",
     "output_type": "stream",
     "text": [
      "Loaded validation data with 16 batches\n"
     ]
    },
    {
     "name": "stderr",
     "output_type": "stream",
     "text": [
      "100%|██████████████████████████████████████████████████████████████████████████████████| 16/16 [00:01<00:00,  8.57it/s]\n"
     ]
    },
    {
     "name": "stdout",
     "output_type": "stream",
     "text": [
      "validation acc: 0.838170191834727 |dataset split validation size: 2033\n",
      "epoch 6 | losses: 0.4904306968053182\n"
     ]
    },
    {
     "name": "stderr",
     "output_type": "stream",
     "text": [
      "100%|██████████████████████████████████████████████████████████████████████| 90/90 [00:29<00:00,  3.04it/s, loss=0.194]\n"
     ]
    },
    {
     "name": "stdout",
     "output_type": "stream",
     "text": [
      "Loaded validation data with 16 batches\n"
     ]
    },
    {
     "name": "stderr",
     "output_type": "stream",
     "text": [
      "100%|██████████████████████████████████████████████████████████████████████████████████| 16/16 [00:01<00:00,  9.05it/s]\n"
     ]
    },
    {
     "name": "stdout",
     "output_type": "stream",
     "text": [
      "validation acc: 0.8416133792424988 |dataset split validation size: 2033\n",
      "epoch 7 | losses: 0.3882422892583741\n"
     ]
    },
    {
     "name": "stderr",
     "output_type": "stream",
     "text": [
      "100%|██████████████████████████████████████████████████████████████████████| 90/90 [00:29<00:00,  3.01it/s, loss=0.262]\n"
     ]
    },
    {
     "name": "stdout",
     "output_type": "stream",
     "text": [
      "Loaded validation data with 16 batches\n"
     ]
    },
    {
     "name": "stderr",
     "output_type": "stream",
     "text": [
      "100%|██████████████████████████████████████████████████████████████████████████████████| 16/16 [00:01<00:00,  8.88it/s]\n"
     ]
    },
    {
     "name": "stdout",
     "output_type": "stream",
     "text": [
      "validation acc: 0.8470241023118544 |dataset split validation size: 2033\n",
      "epoch 8 | losses: 0.3060872705446349\n"
     ]
    },
    {
     "name": "stderr",
     "output_type": "stream",
     "text": [
      "100%|██████████████████████████████████████████████████████████████████████| 90/90 [00:29<00:00,  3.00it/s, loss=0.335]\n"
     ]
    },
    {
     "name": "stdout",
     "output_type": "stream",
     "text": [
      "Loaded validation data with 16 batches\n"
     ]
    },
    {
     "name": "stderr",
     "output_type": "stream",
     "text": [
      "100%|██████████████████████████████████████████████████████████████████████████████████| 16/16 [00:01<00:00,  9.33it/s]\n"
     ]
    },
    {
     "name": "stdout",
     "output_type": "stream",
     "text": [
      "validation acc: 0.8514510575504181 |dataset split validation size: 2033\n",
      "epoch 9 | losses: 0.3075854503446155\n",
      "Loaded test data with 24 batches\n"
     ]
    },
    {
     "name": "stderr",
     "output_type": "stream",
     "text": [
      "100%|██████████████████████████████████████████████████████████████████████████████████| 24/24 [00:02<00:00, 10.91it/s]"
     ]
    },
    {
     "name": "stdout",
     "output_type": "stream",
     "text": [
      "test acc: 0.8426361802286483 |dataset split test size: 2974\n"
     ]
    },
    {
     "name": "stderr",
     "output_type": "stream",
     "text": [
      "\n"
     ]
    }
   ],
   "source": [
    "args = Namespace(task='custom',\n",
    "                 temperature=0.7,\n",
    "                 reinit_n_layers=0,\n",
    "                 lldr=False,\n",
    "                 scheduler_type='constant',\n",
    "                 end_lr_ratio=-999999.0,\n",
    "                 warmup_steps=0,\n",
    "                 input_dir='assets',\n",
    "                 output_dir='results',\n",
    "                 model='bert',\n",
    "                 seed=42,\n",
    "                 dataset='amazon',\n",
    "                 ignore_cache=False,\n",
    "                 debug=False,\n",
    "                 do_train=False,\n",
    "                 do_eval=False,\n",
    "                 batch_size=128,\n",
    "                 learning_rate=0.0001,\n",
    "                 hidden_dim=10,\n",
    "                 drop_rate=0.5,\n",
    "                 embed_dim=10,\n",
    "                 adam_epsilon=1e-08,\n",
    "                 n_epochs=10,\n",
    "                 max_len=20,\n",
    "                 lr_decay_step=1,\n",
    "                 lr_decay_gamma=1)\n",
    "model, datasets, tokenizer = main.main(args)"
   ]
  },
  {
   "cell_type": "code",
   "execution_count": 57,
   "id": "ce136798",
   "metadata": {},
   "outputs": [
    {
     "data": {
      "text/plain": [
       "CustomModel(\n",
       "  (encoder): BertModel(\n",
       "    (embeddings): BertEmbeddings(\n",
       "      (word_embeddings): Embedding(30522, 768, padding_idx=0)\n",
       "      (position_embeddings): Embedding(512, 768)\n",
       "      (token_type_embeddings): Embedding(2, 768)\n",
       "      (LayerNorm): LayerNorm((768,), eps=1e-12, elementwise_affine=True)\n",
       "      (dropout): Dropout(p=0.1, inplace=False)\n",
       "    )\n",
       "    (encoder): BertEncoder(\n",
       "      (layer): ModuleList(\n",
       "        (0): BertLayer(\n",
       "          (attention): BertAttention(\n",
       "            (self): BertSelfAttention(\n",
       "              (query): Linear(in_features=768, out_features=768, bias=True)\n",
       "              (key): Linear(in_features=768, out_features=768, bias=True)\n",
       "              (value): Linear(in_features=768, out_features=768, bias=True)\n",
       "              (dropout): Dropout(p=0.1, inplace=False)\n",
       "            )\n",
       "            (output): BertSelfOutput(\n",
       "              (dense): Linear(in_features=768, out_features=768, bias=True)\n",
       "              (LayerNorm): LayerNorm((768,), eps=1e-12, elementwise_affine=True)\n",
       "              (dropout): Dropout(p=0.1, inplace=False)\n",
       "            )\n",
       "          )\n",
       "          (intermediate): BertIntermediate(\n",
       "            (dense): Linear(in_features=768, out_features=3072, bias=True)\n",
       "            (intermediate_act_fn): GELUActivation()\n",
       "          )\n",
       "          (output): BertOutput(\n",
       "            (dense): Linear(in_features=3072, out_features=768, bias=True)\n",
       "            (LayerNorm): LayerNorm((768,), eps=1e-12, elementwise_affine=True)\n",
       "            (dropout): Dropout(p=0.1, inplace=False)\n",
       "          )\n",
       "        )\n",
       "        (1): BertLayer(\n",
       "          (attention): BertAttention(\n",
       "            (self): BertSelfAttention(\n",
       "              (query): Linear(in_features=768, out_features=768, bias=True)\n",
       "              (key): Linear(in_features=768, out_features=768, bias=True)\n",
       "              (value): Linear(in_features=768, out_features=768, bias=True)\n",
       "              (dropout): Dropout(p=0.1, inplace=False)\n",
       "            )\n",
       "            (output): BertSelfOutput(\n",
       "              (dense): Linear(in_features=768, out_features=768, bias=True)\n",
       "              (LayerNorm): LayerNorm((768,), eps=1e-12, elementwise_affine=True)\n",
       "              (dropout): Dropout(p=0.1, inplace=False)\n",
       "            )\n",
       "          )\n",
       "          (intermediate): BertIntermediate(\n",
       "            (dense): Linear(in_features=768, out_features=3072, bias=True)\n",
       "            (intermediate_act_fn): GELUActivation()\n",
       "          )\n",
       "          (output): BertOutput(\n",
       "            (dense): Linear(in_features=3072, out_features=768, bias=True)\n",
       "            (LayerNorm): LayerNorm((768,), eps=1e-12, elementwise_affine=True)\n",
       "            (dropout): Dropout(p=0.1, inplace=False)\n",
       "          )\n",
       "        )\n",
       "        (2): BertLayer(\n",
       "          (attention): BertAttention(\n",
       "            (self): BertSelfAttention(\n",
       "              (query): Linear(in_features=768, out_features=768, bias=True)\n",
       "              (key): Linear(in_features=768, out_features=768, bias=True)\n",
       "              (value): Linear(in_features=768, out_features=768, bias=True)\n",
       "              (dropout): Dropout(p=0.1, inplace=False)\n",
       "            )\n",
       "            (output): BertSelfOutput(\n",
       "              (dense): Linear(in_features=768, out_features=768, bias=True)\n",
       "              (LayerNorm): LayerNorm((768,), eps=1e-12, elementwise_affine=True)\n",
       "              (dropout): Dropout(p=0.1, inplace=False)\n",
       "            )\n",
       "          )\n",
       "          (intermediate): BertIntermediate(\n",
       "            (dense): Linear(in_features=768, out_features=3072, bias=True)\n",
       "            (intermediate_act_fn): GELUActivation()\n",
       "          )\n",
       "          (output): BertOutput(\n",
       "            (dense): Linear(in_features=3072, out_features=768, bias=True)\n",
       "            (LayerNorm): LayerNorm((768,), eps=1e-12, elementwise_affine=True)\n",
       "            (dropout): Dropout(p=0.1, inplace=False)\n",
       "          )\n",
       "        )\n",
       "        (3): BertLayer(\n",
       "          (attention): BertAttention(\n",
       "            (self): BertSelfAttention(\n",
       "              (query): Linear(in_features=768, out_features=768, bias=True)\n",
       "              (key): Linear(in_features=768, out_features=768, bias=True)\n",
       "              (value): Linear(in_features=768, out_features=768, bias=True)\n",
       "              (dropout): Dropout(p=0.1, inplace=False)\n",
       "            )\n",
       "            (output): BertSelfOutput(\n",
       "              (dense): Linear(in_features=768, out_features=768, bias=True)\n",
       "              (LayerNorm): LayerNorm((768,), eps=1e-12, elementwise_affine=True)\n",
       "              (dropout): Dropout(p=0.1, inplace=False)\n",
       "            )\n",
       "          )\n",
       "          (intermediate): BertIntermediate(\n",
       "            (dense): Linear(in_features=768, out_features=3072, bias=True)\n",
       "            (intermediate_act_fn): GELUActivation()\n",
       "          )\n",
       "          (output): BertOutput(\n",
       "            (dense): Linear(in_features=3072, out_features=768, bias=True)\n",
       "            (LayerNorm): LayerNorm((768,), eps=1e-12, elementwise_affine=True)\n",
       "            (dropout): Dropout(p=0.1, inplace=False)\n",
       "          )\n",
       "        )\n",
       "        (4): BertLayer(\n",
       "          (attention): BertAttention(\n",
       "            (self): BertSelfAttention(\n",
       "              (query): Linear(in_features=768, out_features=768, bias=True)\n",
       "              (key): Linear(in_features=768, out_features=768, bias=True)\n",
       "              (value): Linear(in_features=768, out_features=768, bias=True)\n",
       "              (dropout): Dropout(p=0.1, inplace=False)\n",
       "            )\n",
       "            (output): BertSelfOutput(\n",
       "              (dense): Linear(in_features=768, out_features=768, bias=True)\n",
       "              (LayerNorm): LayerNorm((768,), eps=1e-12, elementwise_affine=True)\n",
       "              (dropout): Dropout(p=0.1, inplace=False)\n",
       "            )\n",
       "          )\n",
       "          (intermediate): BertIntermediate(\n",
       "            (dense): Linear(in_features=768, out_features=3072, bias=True)\n",
       "            (intermediate_act_fn): GELUActivation()\n",
       "          )\n",
       "          (output): BertOutput(\n",
       "            (dense): Linear(in_features=3072, out_features=768, bias=True)\n",
       "            (LayerNorm): LayerNorm((768,), eps=1e-12, elementwise_affine=True)\n",
       "            (dropout): Dropout(p=0.1, inplace=False)\n",
       "          )\n",
       "        )\n",
       "        (5): BertLayer(\n",
       "          (attention): BertAttention(\n",
       "            (self): BertSelfAttention(\n",
       "              (query): Linear(in_features=768, out_features=768, bias=True)\n",
       "              (key): Linear(in_features=768, out_features=768, bias=True)\n",
       "              (value): Linear(in_features=768, out_features=768, bias=True)\n",
       "              (dropout): Dropout(p=0.1, inplace=False)\n",
       "            )\n",
       "            (output): BertSelfOutput(\n",
       "              (dense): Linear(in_features=768, out_features=768, bias=True)\n",
       "              (LayerNorm): LayerNorm((768,), eps=1e-12, elementwise_affine=True)\n",
       "              (dropout): Dropout(p=0.1, inplace=False)\n",
       "            )\n",
       "          )\n",
       "          (intermediate): BertIntermediate(\n",
       "            (dense): Linear(in_features=768, out_features=3072, bias=True)\n",
       "            (intermediate_act_fn): GELUActivation()\n",
       "          )\n",
       "          (output): BertOutput(\n",
       "            (dense): Linear(in_features=3072, out_features=768, bias=True)\n",
       "            (LayerNorm): LayerNorm((768,), eps=1e-12, elementwise_affine=True)\n",
       "            (dropout): Dropout(p=0.1, inplace=False)\n",
       "          )\n",
       "        )\n",
       "        (6): BertLayer(\n",
       "          (attention): BertAttention(\n",
       "            (self): BertSelfAttention(\n",
       "              (query): Linear(in_features=768, out_features=768, bias=True)\n",
       "              (key): Linear(in_features=768, out_features=768, bias=True)\n",
       "              (value): Linear(in_features=768, out_features=768, bias=True)\n",
       "              (dropout): Dropout(p=0.1, inplace=False)\n",
       "            )\n",
       "            (output): BertSelfOutput(\n",
       "              (dense): Linear(in_features=768, out_features=768, bias=True)\n",
       "              (LayerNorm): LayerNorm((768,), eps=1e-12, elementwise_affine=True)\n",
       "              (dropout): Dropout(p=0.1, inplace=False)\n",
       "            )\n",
       "          )\n",
       "          (intermediate): BertIntermediate(\n",
       "            (dense): Linear(in_features=768, out_features=3072, bias=True)\n",
       "            (intermediate_act_fn): GELUActivation()\n",
       "          )\n",
       "          (output): BertOutput(\n",
       "            (dense): Linear(in_features=3072, out_features=768, bias=True)\n",
       "            (LayerNorm): LayerNorm((768,), eps=1e-12, elementwise_affine=True)\n",
       "            (dropout): Dropout(p=0.1, inplace=False)\n",
       "          )\n",
       "        )\n",
       "        (7): BertLayer(\n",
       "          (attention): BertAttention(\n",
       "            (self): BertSelfAttention(\n",
       "              (query): Linear(in_features=768, out_features=768, bias=True)\n",
       "              (key): Linear(in_features=768, out_features=768, bias=True)\n",
       "              (value): Linear(in_features=768, out_features=768, bias=True)\n",
       "              (dropout): Dropout(p=0.1, inplace=False)\n",
       "            )\n",
       "            (output): BertSelfOutput(\n",
       "              (dense): Linear(in_features=768, out_features=768, bias=True)\n",
       "              (LayerNorm): LayerNorm((768,), eps=1e-12, elementwise_affine=True)\n",
       "              (dropout): Dropout(p=0.1, inplace=False)\n",
       "            )\n",
       "          )\n",
       "          (intermediate): BertIntermediate(\n",
       "            (dense): Linear(in_features=768, out_features=3072, bias=True)\n",
       "            (intermediate_act_fn): GELUActivation()\n",
       "          )\n",
       "          (output): BertOutput(\n",
       "            (dense): Linear(in_features=3072, out_features=768, bias=True)\n",
       "            (LayerNorm): LayerNorm((768,), eps=1e-12, elementwise_affine=True)\n",
       "            (dropout): Dropout(p=0.1, inplace=False)\n",
       "          )\n",
       "        )\n",
       "        (8): BertLayer(\n",
       "          (attention): BertAttention(\n",
       "            (self): BertSelfAttention(\n",
       "              (query): Linear(in_features=768, out_features=768, bias=True)\n",
       "              (key): Linear(in_features=768, out_features=768, bias=True)\n",
       "              (value): Linear(in_features=768, out_features=768, bias=True)\n",
       "              (dropout): Dropout(p=0.1, inplace=False)\n",
       "            )\n",
       "            (output): BertSelfOutput(\n",
       "              (dense): Linear(in_features=768, out_features=768, bias=True)\n",
       "              (LayerNorm): LayerNorm((768,), eps=1e-12, elementwise_affine=True)\n",
       "              (dropout): Dropout(p=0.1, inplace=False)\n",
       "            )\n",
       "          )\n",
       "          (intermediate): BertIntermediate(\n",
       "            (dense): Linear(in_features=768, out_features=3072, bias=True)\n",
       "            (intermediate_act_fn): GELUActivation()\n",
       "          )\n",
       "          (output): BertOutput(\n",
       "            (dense): Linear(in_features=3072, out_features=768, bias=True)\n",
       "            (LayerNorm): LayerNorm((768,), eps=1e-12, elementwise_affine=True)\n",
       "            (dropout): Dropout(p=0.1, inplace=False)\n",
       "          )\n",
       "        )\n",
       "        (9): BertLayer(\n",
       "          (attention): BertAttention(\n",
       "            (self): BertSelfAttention(\n",
       "              (query): Linear(in_features=768, out_features=768, bias=True)\n",
       "              (key): Linear(in_features=768, out_features=768, bias=True)\n",
       "              (value): Linear(in_features=768, out_features=768, bias=True)\n",
       "              (dropout): Dropout(p=0.1, inplace=False)\n",
       "            )\n",
       "            (output): BertSelfOutput(\n",
       "              (dense): Linear(in_features=768, out_features=768, bias=True)\n",
       "              (LayerNorm): LayerNorm((768,), eps=1e-12, elementwise_affine=True)\n",
       "              (dropout): Dropout(p=0.1, inplace=False)\n",
       "            )\n",
       "          )\n",
       "          (intermediate): BertIntermediate(\n",
       "            (dense): Linear(in_features=768, out_features=3072, bias=True)\n",
       "            (intermediate_act_fn): GELUActivation()\n",
       "          )\n",
       "          (output): BertOutput(\n",
       "            (dense): Linear(in_features=3072, out_features=768, bias=True)\n",
       "            (LayerNorm): LayerNorm((768,), eps=1e-12, elementwise_affine=True)\n",
       "            (dropout): Dropout(p=0.1, inplace=False)\n",
       "          )\n",
       "        )\n",
       "        (10): BertLayer(\n",
       "          (attention): BertAttention(\n",
       "            (self): BertSelfAttention(\n",
       "              (query): Linear(in_features=768, out_features=768, bias=True)\n",
       "              (key): Linear(in_features=768, out_features=768, bias=True)\n",
       "              (value): Linear(in_features=768, out_features=768, bias=True)\n",
       "              (dropout): Dropout(p=0.1, inplace=False)\n",
       "            )\n",
       "            (output): BertSelfOutput(\n",
       "              (dense): Linear(in_features=768, out_features=768, bias=True)\n",
       "              (LayerNorm): LayerNorm((768,), eps=1e-12, elementwise_affine=True)\n",
       "              (dropout): Dropout(p=0.1, inplace=False)\n",
       "            )\n",
       "          )\n",
       "          (intermediate): BertIntermediate(\n",
       "            (dense): Linear(in_features=768, out_features=3072, bias=True)\n",
       "            (intermediate_act_fn): GELUActivation()\n",
       "          )\n",
       "          (output): BertOutput(\n",
       "            (dense): Linear(in_features=3072, out_features=768, bias=True)\n",
       "            (LayerNorm): LayerNorm((768,), eps=1e-12, elementwise_affine=True)\n",
       "            (dropout): Dropout(p=0.1, inplace=False)\n",
       "          )\n",
       "        )\n",
       "        (11): BertLayer(\n",
       "          (attention): BertAttention(\n",
       "            (self): BertSelfAttention(\n",
       "              (query): Linear(in_features=768, out_features=768, bias=True)\n",
       "              (key): Linear(in_features=768, out_features=768, bias=True)\n",
       "              (value): Linear(in_features=768, out_features=768, bias=True)\n",
       "              (dropout): Dropout(p=0.1, inplace=False)\n",
       "            )\n",
       "            (output): BertSelfOutput(\n",
       "              (dense): Linear(in_features=768, out_features=768, bias=True)\n",
       "              (LayerNorm): LayerNorm((768,), eps=1e-12, elementwise_affine=True)\n",
       "              (dropout): Dropout(p=0.1, inplace=False)\n",
       "            )\n",
       "          )\n",
       "          (intermediate): BertIntermediate(\n",
       "            (dense): Linear(in_features=768, out_features=3072, bias=True)\n",
       "            (intermediate_act_fn): GELUActivation()\n",
       "          )\n",
       "          (output): BertOutput(\n",
       "            (dense): Linear(in_features=3072, out_features=768, bias=True)\n",
       "            (LayerNorm): LayerNorm((768,), eps=1e-12, elementwise_affine=True)\n",
       "            (dropout): Dropout(p=0.1, inplace=False)\n",
       "          )\n",
       "        )\n",
       "      )\n",
       "    )\n",
       "    (pooler): BertPooler(\n",
       "      (dense): Linear(in_features=768, out_features=768, bias=True)\n",
       "      (activation): Tanh()\n",
       "    )\n",
       "  )\n",
       "  (dropout): Dropout(p=0.5, inplace=False)\n",
       "  (classifier): Classifier(\n",
       "    (top): Linear(in_features=768, out_features=10, bias=True)\n",
       "    (relu): ReLU()\n",
       "    (bottom): Linear(in_features=10, out_features=60, bias=True)\n",
       "  )\n",
       ")"
      ]
     },
     "execution_count": 57,
     "metadata": {},
     "output_type": "execute_result"
    }
   ],
   "source": [
    "model.to(torch.device(\"cpu\"))"
   ]
  },
  {
   "cell_type": "code",
   "execution_count": 56,
   "id": "0e2bf645",
   "metadata": {},
   "outputs": [
    {
     "ename": "SyntaxError",
     "evalue": "invalid character in identifier (48590509.py, line 1)",
     "output_type": "error",
     "traceback": [
      "\u001b[1;36m  Cell \u001b[1;32mIn [56], line 1\u001b[1;36m\u001b[0m\n\u001b[1;33m    model.cpu(）\u001b[0m\n\u001b[1;37m              ^\u001b[0m\n\u001b[1;31mSyntaxError\u001b[0m\u001b[1;31m:\u001b[0m invalid character in identifier\n"
     ]
    }
   ],
   "source": [
    "model.cpu(）"
   ]
  },
  {
   "cell_type": "code",
   "execution_count": 58,
   "id": "58a8d088",
   "metadata": {},
   "outputs": [],
   "source": [
    "torch.save(model, './saved_model/model.pt')"
   ]
  },
  {
   "cell_type": "code",
   "execution_count": 59,
   "id": "f0efc914",
   "metadata": {},
   "outputs": [],
   "source": [
    "model = torch.load('./saved_model/model.pt')"
   ]
  },
  {
   "cell_type": "code",
   "execution_count": 6,
   "id": "b03c3526",
   "metadata": {},
   "outputs": [],
   "source": [
    "from transformers import BertTokenizer\n",
    "tokenizer = BertTokenizer.from_pretrained(\"bert-base-uncased\", truncation_side=\"left\")"
   ]
  },
  {
   "cell_type": "code",
   "execution_count": 21,
   "id": "5d791291",
   "metadata": {
    "scrolled": false
   },
   "outputs": [
    {
     "data": {
      "text/plain": [
       "{'input_ids': [[101, 2275, 2039, 8598, 102], [101, 21358, 20518, 7959, 102], [101, 2572, 2061, 3407, 102], [101, 2040, 2024, 2017, 102], [101, 12486, 17137, 2243, 102]], 'token_type_ids': [[0, 0, 0, 0, 0], [0, 0, 0, 0, 0], [0, 0, 0, 0, 0], [0, 0, 0, 0, 0], [0, 0, 0, 0, 0]], 'attention_mask': [[1, 1, 1, 1, 1], [1, 1, 1, 1, 1], [1, 1, 1, 1, 1], [1, 1, 1, 1, 1], [1, 1, 1, 1, 1]]}"
      ]
     },
     "execution_count": 21,
     "metadata": {},
     "output_type": "execute_result"
    }
   ],
   "source": [
    "a = tokenizer(['set up alarm', 'afejfe', 'I am so happy', 'who are you', 'tell me how to make beef shank'], padding='max_length', truncation=True, max_length=5)\n",
    "a"
   ]
  },
  {
   "cell_type": "code",
   "execution_count": 22,
   "id": "2083ec79",
   "metadata": {},
   "outputs": [],
   "source": [
    "for key, value in a.items():\n",
    "    a[key] = torch.tensor(value).to(device)"
   ]
  },
  {
   "cell_type": "code",
   "execution_count": 33,
   "id": "a7a47f4e",
   "metadata": {
    "scrolled": false
   },
   "outputs": [
    {
     "data": {
      "text/plain": [
       "{'input_ids': tensor([[  101,  2275,  2039,  8598,   102],\n",
       "        [  101, 21358, 20518,  7959,   102],\n",
       "        [  101,  2572,  2061,  3407,   102],\n",
       "        [  101,  2040,  2024,  2017,   102],\n",
       "        [  101, 12486, 17137,  2243,   102]], device='cuda:0'), 'token_type_ids': tensor([[0, 0, 0, 0, 0],\n",
       "        [0, 0, 0, 0, 0],\n",
       "        [0, 0, 0, 0, 0],\n",
       "        [0, 0, 0, 0, 0],\n",
       "        [0, 0, 0, 0, 0]], device='cuda:0'), 'attention_mask': tensor([[1, 1, 1, 1, 1],\n",
       "        [1, 1, 1, 1, 1],\n",
       "        [1, 1, 1, 1, 1],\n",
       "        [1, 1, 1, 1, 1],\n",
       "        [1, 1, 1, 1, 1]], device='cuda:0')}"
      ]
     },
     "execution_count": 33,
     "metadata": {},
     "output_type": "execute_result"
    }
   ],
   "source": [
    "a"
   ]
  },
  {
   "cell_type": "raw",
   "id": "afc834ca",
   "metadata": {},
   "source": [
    "btt = [b.to(device) for b in a[:4]]"
   ]
  },
  {
   "cell_type": "code",
   "execution_count": 23,
   "id": "2d3d994d",
   "metadata": {
    "scrolled": true
   },
   "outputs": [
    {
     "data": {
      "text/plain": [
       "tensor([[-5.9042e+00, -5.2307e+00, -8.4024e+00,  2.6671e+00, -5.7820e-01,\n",
       "          2.2887e+00, -1.5442e+00, -1.0443e+00, -6.3413e+00, -3.1678e+00,\n",
       "          3.4832e+00, -6.7973e+00,  3.4409e+00, -9.2859e+00,  7.5100e-01,\n",
       "         -2.6171e+00, -6.7166e+00,  3.7141e+00,  5.8105e+00, -3.4109e+00,\n",
       "         -1.0482e+01,  7.0506e+00,  4.9907e-01,  1.3142e+00, -2.3973e+00,\n",
       "          3.8540e+00, -2.2810e+00,  3.6643e+00, -1.2089e+00, -5.1138e+00,\n",
       "         -2.4290e+00,  2.9551e+00, -2.9372e+00,  2.0513e-02, -4.1057e+00,\n",
       "         -3.3273e-01, -8.0277e-01, -4.3429e+00, -8.6665e-01,  3.3486e+00,\n",
       "          2.4195e+00, -5.6561e+00, -3.3742e+00, -6.4802e+00, -1.0186e+01,\n",
       "         -1.8691e+00,  3.4254e+00, -2.1918e-01,  1.0101e+01,  2.9291e+00,\n",
       "         -3.1284e+00,  1.8886e+00,  2.1595e+00,  3.1450e-04, -1.3195e+00,\n",
       "         -2.4231e+00, -3.8046e+00, -4.2734e+00,  3.4717e+00,  2.1645e-04],\n",
       "        [-5.5255e+00, -1.0689e+00, -5.1974e+00, -1.7306e+00,  4.7919e+00,\n",
       "          3.3520e+00,  1.8109e+00, -1.1744e+00, -2.0615e+00,  7.7255e+00,\n",
       "          9.9503e-01, -3.7936e+00,  2.8028e+00, -5.6114e+00, -1.5650e+00,\n",
       "         -8.4865e-01, -3.2044e+00, -4.8394e+00, -3.3849e+00,  4.8824e+00,\n",
       "         -1.8037e+00, -4.9205e-01, -1.9040e+00,  8.5136e-01, -3.7105e+00,\n",
       "          3.6899e+00, -2.8232e+00,  3.9291e+00, -8.5144e+00, -2.6074e+00,\n",
       "         -5.1519e+00,  7.6805e-01,  1.2461e-01, -1.4545e+00,  3.1455e+00,\n",
       "         -1.5630e+00,  3.2616e-01, -5.2300e+00, -2.8174e+00,  2.1572e+00,\n",
       "         -8.8487e+00, -7.1867e+00, -3.8909e-01,  2.4549e+00,  8.3778e-01,\n",
       "          4.5904e+00,  1.1759e+00, -4.7914e+00, -3.1483e+00, -1.6814e+00,\n",
       "          1.6396e+00,  4.2037e+00,  2.8832e-01, -2.6920e+00, -6.4681e+00,\n",
       "          2.7497e-01,  4.8330e+00,  4.7363e+00, -2.1967e+00, -3.2296e+00],\n",
       "        [-4.6907e+00,  3.8152e+00, -2.8688e+00, -4.4706e+00,  1.5527e-02,\n",
       "          2.9387e+00,  1.1975e+00, -1.5732e-01,  1.2958e+00,  3.5487e+00,\n",
       "          3.3641e+00, -4.1242e-01,  7.1317e+00,  1.1126e+00, -8.1599e+00,\n",
       "          2.8079e+00,  5.8414e+00, -5.2943e+00, -1.8714e+00, -2.4838e+00,\n",
       "          1.8239e+00,  1.4244e+00, -1.7627e+00, -9.8993e-01,  1.8460e+00,\n",
       "          4.7214e+00, -3.2964e+00,  9.6293e-01, -7.9855e+00, -6.5001e+00,\n",
       "         -3.3816e+00, -3.9132e+00,  2.5495e+00,  2.3318e+00,  3.7209e+00,\n",
       "          5.6066e+00,  3.1178e+00, -3.9229e+00,  4.2438e-01,  4.6537e+00,\n",
       "         -2.6321e+00, -4.2472e+00,  3.4730e+00,  6.2318e+00, -1.4814e+00,\n",
       "         -1.3067e+00, -5.1880e+00, -2.8954e+00, -3.7811e+00,  6.3176e-01,\n",
       "          4.0346e+00, -2.6509e+00,  3.5348e+00, -2.1183e+00,  1.9870e+00,\n",
       "          3.2629e+00,  1.2965e+00, -4.6276e+00, -5.5967e+00,  1.7139e+00],\n",
       "        [-8.3444e+00, -2.7891e+00, -5.8783e+00, -3.0585e+00,  4.3315e+00,\n",
       "          9.8160e+00,  2.5193e-02, -1.9318e+00, -4.7204e+00,  5.0879e+00,\n",
       "          5.0391e+00, -1.3726e+00,  3.4283e+00, -3.4265e+00,  8.6727e-01,\n",
       "         -1.6526e+00, -2.9878e+00, -5.1364e+00,  5.5733e-01,  3.8558e+00,\n",
       "         -4.9652e+00,  2.6443e+00, -2.2951e+00,  1.4387e+00, -2.6057e+00,\n",
       "          2.8852e+00, -7.2223e+00,  4.2148e+00, -1.7625e+00, -3.4435e+00,\n",
       "         -6.5149e+00,  4.6517e+00, -6.2120e+00, -2.1895e+00,  4.4405e+00,\n",
       "         -1.0840e+00,  2.1079e+00, -5.8644e+00, -2.2145e+00,  6.9601e+00,\n",
       "         -5.6621e+00, -6.3169e+00, -4.2007e+00,  9.9472e-01, -6.5252e+00,\n",
       "          3.3971e+00,  5.0529e+00, -6.3604e+00,  2.9161e+00,  2.3195e+00,\n",
       "         -1.4374e+00,  5.8892e-01,  3.1168e+00, -3.6618e-01, -4.5418e+00,\n",
       "         -2.5802e+00,  2.1394e+00, -2.8758e-01, -1.4510e+00,  4.2172e+00],\n",
       "        [-3.5460e+00, -3.4608e+00, -6.2024e+00, -3.0382e+00,  2.5742e+00,\n",
       "         -1.1453e-01,  3.3312e+00, -8.5919e-01, -2.3271e-01,  1.0391e+01,\n",
       "          2.8248e+00, -2.1853e+00,  4.1371e+00, -4.8455e+00, -4.8033e+00,\n",
       "          2.0757e+00,  5.5500e-01, -5.9020e+00, -3.3739e+00, -5.3324e-01,\n",
       "          1.1334e+00, -1.2517e+00, -5.5640e+00,  1.6287e+00, -2.2157e+00,\n",
       "          2.9363e+00, -2.5594e+00,  4.5999e+00, -1.3683e+01, -6.0291e+00,\n",
       "         -1.0151e+01, -2.2220e+00,  2.6093e+00, -5.7866e-01,  3.2802e+00,\n",
       "          2.8688e+00,  4.7174e+00, -6.2193e+00, -2.0352e-01,  3.5579e-01,\n",
       "         -8.4514e+00, -6.5367e+00,  4.5656e+00,  6.0130e+00,  3.3689e+00,\n",
       "          4.0216e+00, -3.0320e+00, -5.7067e+00, -6.2830e+00,  2.2800e+00,\n",
       "          5.5665e+00, -6.1979e-01,  1.1803e+00, -5.9763e+00, -5.9164e-01,\n",
       "          1.4925e+00,  4.8042e+00,  3.5042e+00, -2.1100e+00, -3.8229e+00]],\n",
       "       device='cuda:0', grad_fn=<AddmmBackward0>)"
      ]
     },
     "execution_count": 23,
     "metadata": {},
     "output_type": "execute_result"
    }
   ],
   "source": [
    "model(a, None )"
   ]
  },
  {
   "cell_type": "code",
   "execution_count": 24,
   "id": "c4f47907",
   "metadata": {
    "scrolled": false
   },
   "outputs": [
    {
     "name": "stderr",
     "output_type": "stream",
     "text": [
      "C:\\Users\\Wang\\AppData\\Local\\Temp\\ipykernel_28928\\3100148913.py:1: UserWarning: Implicit dimension choice for softmax has been deprecated. Change the call to include dim=X as an argument.\n",
      "  s = torch.nn.functional.softmax(model(a, None ))\n"
     ]
    },
    {
     "data": {
      "text/plain": [
       "tensor([1.0000, 1.0000, 1.0000, 1.0000, 1.0000], device='cuda:0',\n",
       "       grad_fn=<SumBackward1>)"
      ]
     },
     "execution_count": 24,
     "metadata": {},
     "output_type": "execute_result"
    }
   ],
   "source": [
    "s = torch.nn.functional.softmax(model(a, None ))\n",
    "s.sum(axis = 1)"
   ]
  },
  {
   "cell_type": "code",
   "execution_count": 70,
   "id": "57188b41",
   "metadata": {
    "scrolled": true
   },
   "outputs": [
    {
     "data": {
      "text/plain": [
       "array([0.92855626, 0.72236896, 0.4131876 , 0.8948466 , 0.95714104],\n",
       "      dtype=float32)"
      ]
     },
     "execution_count": 70,
     "metadata": {},
     "output_type": "execute_result"
    }
   ],
   "source": [
    "s.max(axis = 1).values.cpu().detach().numpy()"
   ]
  },
  {
   "cell_type": "code",
   "execution_count": 80,
   "id": "2407657e",
   "metadata": {
    "scrolled": true
   },
   "outputs": [
    {
     "data": {
      "text/plain": [
       "array([48,  9, 12,  5,  9], dtype=int64)"
      ]
     },
     "execution_count": 80,
     "metadata": {},
     "output_type": "execute_result"
    }
   ],
   "source": [
    "s.cpu().detach().numpy().argmax(1)"
   ]
  },
  {
   "cell_type": "code",
   "execution_count": 74,
   "id": "34f8e3f4",
   "metadata": {
    "scrolled": false
   },
   "outputs": [
    {
     "data": {
      "text/plain": [
       "array([48,  9, 12,  5,  9], dtype=int64)"
      ]
     },
     "execution_count": 74,
     "metadata": {},
     "output_type": "execute_result"
    }
   ],
   "source": [
    "s.argmax(1).cpu().numpy()"
   ]
  },
  {
   "cell_type": "code",
   "execution_count": 82,
   "id": "40f21a9d",
   "metadata": {},
   "outputs": [],
   "source": [
    "s1 = s.cpu().detach().numpy()"
   ]
  },
  {
   "cell_type": "code",
   "execution_count": 84,
   "id": "ea1f7a0b",
   "metadata": {
    "scrolled": true
   },
   "outputs": [
    {
     "data": {
      "text/plain": [
       "array([[1.04004307e-07, 2.03960553e-07, 8.55223625e-09, 5.48951153e-04,\n",
       "        2.13845688e-05, 3.76010052e-04, 8.13878887e-06, 1.34171860e-05,\n",
       "        6.71734099e-08, 1.60492289e-06, 1.24143390e-03, 4.25783888e-08,\n",
       "        1.19010801e-03, 3.53493057e-09, 8.07913093e-05, 2.78359039e-06,\n",
       "        4.61562948e-08, 1.56387535e-03, 1.27257649e-02, 1.25860288e-06,\n",
       "        1.06911158e-09, 4.39800546e-02, 6.27987611e-05, 1.41889075e-04,\n",
       "        3.46788011e-06, 1.79876015e-03, 3.89583829e-06, 1.48797128e-03,\n",
       "        1.13817969e-05, 2.29244463e-07, 3.35960135e-06, 7.32131070e-04,\n",
       "        2.02121328e-06, 3.89150700e-05, 6.28269106e-07, 2.73342284e-05,\n",
       "        1.70832645e-05, 4.95554900e-07, 1.60261116e-05, 1.08518952e-03,\n",
       "        4.28544328e-04, 1.33283081e-07, 1.30566207e-06, 5.84655560e-08,\n",
       "        1.43645895e-09, 5.88150260e-06, 1.17172091e-03, 3.06210568e-05,\n",
       "        9.28556263e-01, 7.13360670e-04, 1.66933489e-06, 2.52011116e-04,\n",
       "        3.30424955e-04, 3.81369537e-05, 1.01899941e-05, 3.37956044e-06,\n",
       "        8.48956006e-07, 5.31221019e-07, 1.22726208e-03, 3.81332065e-05],\n",
       "       [1.27034195e-06, 1.09497487e-04, 1.76369190e-06, 5.64978363e-05,\n",
       "        3.84344868e-02, 9.10673104e-03, 1.95017562e-03, 9.85349179e-05,\n",
       "        4.05812425e-05, 7.22368956e-01, 8.62480549e-04, 7.17944931e-06,\n",
       "        5.25821559e-03, 1.16575143e-06, 6.66690685e-05, 1.36473405e-04,\n",
       "        1.29408418e-05, 2.52291443e-06, 1.08030981e-05, 4.20749150e-02,\n",
       "        5.25132236e-05, 1.94946799e-04, 4.75011875e-05, 7.47056620e-04,\n",
       "        7.80130085e-06, 1.27680786e-02, 1.89452803e-05, 1.62187573e-02,\n",
       "        6.39548006e-08, 2.35100615e-05, 1.84578596e-06, 6.87340624e-04,\n",
       "        3.61184299e-04, 7.44596691e-05, 7.40788272e-03, 6.68025968e-05,\n",
       "        4.41835611e-04, 1.70701128e-06, 1.90566116e-05, 2.75731878e-03,\n",
       "        4.57805953e-08, 2.41246198e-07, 2.16088549e-04, 3.71322711e-03,\n",
       "        7.36980292e-04, 3.14200334e-02, 1.03345420e-03, 2.64693608e-06,\n",
       "        1.36874542e-05, 5.93451805e-05, 1.64316664e-03, 2.13428345e-02,\n",
       "        4.25431179e-04, 2.16018598e-05, 4.94962137e-07, 4.19787248e-04,\n",
       "        4.00472507e-02, 3.63550298e-02, 3.54500116e-05, 1.26189898e-05],\n",
       "       [3.03210140e-06, 1.49895940e-02, 1.87488695e-05, 3.77869674e-06,\n",
       "        3.35449178e-04, 6.23973459e-03, 1.09378190e-03, 2.82203458e-04,\n",
       "        1.20686623e-03, 1.14830658e-02, 9.54760611e-03, 2.18661909e-04,\n",
       "        4.13187593e-01, 1.00482837e-03, 9.44276550e-08, 5.47430525e-03,\n",
       "        1.13698296e-01, 1.65799759e-06, 5.08336489e-05, 2.75541406e-05,\n",
       "        2.04637321e-03, 1.37249613e-03, 5.66696763e-05, 1.22733094e-04,\n",
       "        2.09212210e-03, 3.70982066e-02, 1.22255124e-05, 8.65125679e-04,\n",
       "        1.12418505e-07, 4.96520101e-07, 1.12268299e-05, 6.59781699e-06,\n",
       "        4.22773883e-03, 3.40065104e-03, 1.36411088e-02, 8.99124444e-02,\n",
       "        7.46311806e-03, 6.53412326e-06, 5.04883763e-04, 3.46692428e-02,\n",
       "        2.37562563e-05, 4.72441161e-06, 1.06465360e-02, 1.67995945e-01,\n",
       "        7.50815598e-05, 8.94096811e-05, 1.84404666e-06, 1.82574222e-05,\n",
       "        7.52937012e-06, 6.21228479e-04, 1.86675768e-02, 2.33129249e-05,\n",
       "        1.13242501e-02, 3.97101721e-05, 2.40892731e-03, 8.62884242e-03,\n",
       "        1.20768836e-03, 3.22960727e-06, 1.22532515e-06, 1.83316867e-03],\n",
       "       [1.16095196e-08, 3.00230545e-06, 1.36710185e-07, 2.29324633e-06,\n",
       "        3.71414167e-03, 8.94846618e-01, 5.00806746e-05, 7.07569643e-06,\n",
       "        4.35183125e-07, 7.91329984e-03, 7.53663247e-03, 1.23768050e-05,\n",
       "        1.50523265e-03, 1.58711623e-06, 1.16246891e-04, 9.35478874e-06,\n",
       "        2.46126569e-06, 2.87098032e-07, 8.52656813e-05, 2.30829953e-03,\n",
       "        3.40686398e-07, 6.87253254e-04, 4.92031859e-06, 2.05846998e-04,\n",
       "        3.60641388e-06, 8.74456833e-04, 3.56566545e-08, 3.30518116e-03,\n",
       "        8.38072538e-06, 1.56033479e-06, 7.23312965e-08, 5.11583639e-03,\n",
       "        9.79215713e-08, 5.46834190e-06, 4.14207717e-03, 1.65170750e-05,\n",
       "        4.01945057e-04, 1.38625666e-07, 5.33324874e-06, 5.14579229e-02,\n",
       "        1.69706695e-07, 8.81743532e-08, 7.31818659e-07, 1.32047833e-04,\n",
       "        7.15924600e-08, 1.45909551e-03, 7.64111150e-03, 8.44215577e-08,\n",
       "        9.01923398e-04, 4.96657158e-04, 1.16002639e-05, 8.80024309e-05,\n",
       "        1.10238814e-03, 3.38610480e-05, 5.20304809e-07, 3.69960662e-06,\n",
       "        4.14826558e-04, 3.66296736e-05, 1.14435643e-05, 3.31318472e-03],\n",
       "       [8.47745241e-07, 9.23157359e-07, 5.95093184e-08, 1.40868349e-06,\n",
       "        3.85667488e-04, 2.62137328e-05, 8.22184666e-04, 1.24487497e-05,\n",
       "        2.32918428e-05, 9.57141042e-01, 4.95512504e-04, 3.30541116e-06,\n",
       "        1.84076431e-03, 2.31146387e-07, 2.41124212e-07, 2.34283943e-04,\n",
       "        5.12034858e-05, 8.03643587e-08, 1.00694808e-06, 1.72458385e-05,\n",
       "        9.13100375e-05, 8.40721077e-06, 1.12685697e-07, 1.49830943e-04,\n",
       "        3.20611957e-06, 5.53992693e-04, 2.27373516e-06, 2.92390864e-03,\n",
       "        3.35589334e-11, 7.07698220e-08, 1.14801435e-09, 3.18607295e-06,\n",
       "        3.99439421e-04, 1.64800276e-05, 7.81316368e-04, 5.17827342e-04,\n",
       "        3.28850676e-03, 5.85150133e-08, 2.39816836e-05, 4.19549942e-05,\n",
       "        6.27901020e-09, 4.26017266e-08, 2.82552280e-03, 1.20135583e-02,\n",
       "        8.53770063e-04, 1.63994904e-03, 1.41738894e-06, 9.76950432e-08,\n",
       "        5.49042802e-08, 2.87387869e-04, 7.68721709e-03, 1.58160437e-05,\n",
       "        9.56920048e-05, 7.46065325e-08, 1.62675697e-05, 1.30752815e-04,\n",
       "        3.58688505e-03, 9.77497664e-04, 3.56386568e-06, 6.42709210e-07]],\n",
       "      dtype=float32)"
      ]
     },
     "execution_count": 84,
     "metadata": {},
     "output_type": "execute_result"
    }
   ],
   "source": [
    "s1"
   ]
  },
  {
   "cell_type": "code",
   "execution_count": 92,
   "id": "79c7af94",
   "metadata": {},
   "outputs": [
    {
     "data": {
      "text/plain": [
       "array([[25, 18, 21, 48],\n",
       "       [ 4, 56, 19,  9],\n",
       "       [35, 12, 16, 43],\n",
       "       [46,  9,  5, 39],\n",
       "       [56, 50,  9, 43]], dtype=int64)"
      ]
     },
     "execution_count": 92,
     "metadata": {},
     "output_type": "execute_result"
    }
   ],
   "source": [
    "np.argpartition(s1, -4, 1)[: , -4:]"
   ]
  },
  {
   "cell_type": "code",
   "execution_count": 95,
   "id": "fcebf38b",
   "metadata": {},
   "outputs": [
    {
     "data": {
      "text/plain": [
       "[0, 1, 2, 3, 9]"
      ]
     },
     "execution_count": 95,
     "metadata": {},
     "output_type": "execute_result"
    }
   ],
   "source": [
    "temp = np.array([1,2,3,0,9])\n",
    "sorted(temp)"
   ]
  },
  {
   "cell_type": "code",
   "execution_count": 101,
   "id": "07ce3c27",
   "metadata": {},
   "outputs": [
    {
     "data": {
      "text/plain": [
       "array([4, 2], dtype=int64)"
      ]
     },
     "execution_count": 101,
     "metadata": {},
     "output_type": "execute_result"
    }
   ],
   "source": [
    "np.argsort(temp)[-2:][::-1]"
   ]
  },
  {
   "cell_type": "code",
   "execution_count": 11,
   "id": "b923b728",
   "metadata": {},
   "outputs": [
    {
     "data": {
      "text/plain": [
       "tensor([-69.8183, -52.3219], device='cuda:0', grad_fn=<SumBackward1>)"
      ]
     },
     "execution_count": 11,
     "metadata": {},
     "output_type": "execute_result"
    }
   ],
   "source": [
    "model(a, None ).sum(axis = 1)"
   ]
  },
  {
   "cell_type": "code",
   "execution_count": 47,
   "id": "861f5513",
   "metadata": {},
   "outputs": [],
   "source": [
    "import numpy as np"
   ]
  },
  {
   "cell_type": "code",
   "execution_count": 52,
   "id": "abd24161",
   "metadata": {},
   "outputs": [
    {
     "data": {
      "text/plain": [
       "array(['alarm_set', 'cooking_recipe', 'general_quirky', 'general_greet',\n",
       "       'cooking_recipe'], dtype='<U24')"
      ]
     },
     "execution_count": 52,
     "metadata": {},
     "output_type": "execute_result"
    }
   ],
   "source": [
    "np.array(INTENTS)[s.argmax(1).cpu().numpy()]"
   ]
  },
  {
   "cell_type": "code",
   "execution_count": 43,
   "id": "83dcd9b8",
   "metadata": {},
   "outputs": [],
   "source": [
    "INTENTS = [\n",
    "    \"datetime_query\",\n",
    "    \"iot_hue_lightchange\",\n",
    "    \"transport_ticket\",\n",
    "    \"takeaway_query\",\n",
    "    \"qa_stock\",\n",
    "    \"general_greet\",\n",
    "    \"recommendation_events\",\n",
    "    \"music_dislikeness\",\n",
    "    \"iot_wemo_off\",\n",
    "    \"cooking_recipe\",\n",
    "    \"qa_currency\",\n",
    "    \"transport_traffic\",\n",
    "    \"general_quirky\",\n",
    "    \"weather_query\",\n",
    "    \"audio_volume_up\",\n",
    "    \"email_addcontact\",\n",
    "    \"takeaway_order\",\n",
    "    \"email_querycontact\",\n",
    "    \"iot_hue_lightup\",\n",
    "    \"recommendation_locations\",\n",
    "    \"play_audiobook\",\n",
    "    \"lists_createoradd\",\n",
    "    \"news_query\",\n",
    "    \"alarm_query\",\n",
    "    \"iot_wemo_on\",\n",
    "    \"general_joke\",\n",
    "    \"qa_definition\",\n",
    "    \"social_query\",\n",
    "    \"music_settings\",\n",
    "    \"audio_volume_other\",\n",
    "    \"calendar_remove\",\n",
    "    \"iot_hue_lightdim\",\n",
    "    \"calendar_query\",\n",
    "    \"email_sendemail\",\n",
    "    \"iot_cleaning\",\n",
    "    \"audio_volume_down\",\n",
    "    \"play_radio\",\n",
    "    \"cooking_query\",\n",
    "    \"datetime_convert\",\n",
    "    \"qa_maths\",\n",
    "    \"iot_hue_lightoff\",\n",
    "    \"iot_hue_lighton\",\n",
    "    \"transport_query\",\n",
    "    \"music_likeness\",\n",
    "    \"email_query\",\n",
    "    \"play_music\",\n",
    "    \"audio_volume_mute\",\n",
    "    \"social_post\",\n",
    "    \"alarm_set\",\n",
    "    \"qa_factoid\",\n",
    "    \"calendar_set\",\n",
    "    \"play_game\",\n",
    "    \"alarm_remove\",\n",
    "    \"lists_remove\",\n",
    "    \"transport_taxi\",\n",
    "    \"recommendation_movies\",\n",
    "    \"iot_coffee\",\n",
    "    \"music_query\",\n",
    "    \"play_podcasts\",\n",
    "    \"lists_query\",\n",
    "]"
   ]
  },
  {
   "cell_type": "code",
   "execution_count": 29,
   "id": "135f75ca",
   "metadata": {
    "scrolled": true
   },
   "outputs": [
    {
     "data": {
      "text/plain": [
       "{0: 'datetime_query',\n",
       " 1: 'iot_hue_lightchange',\n",
       " 2: 'transport_ticket',\n",
       " 3: 'takeaway_query',\n",
       " 4: 'qa_stock',\n",
       " 5: 'general_greet',\n",
       " 6: 'recommendation_events',\n",
       " 7: 'music_dislikeness',\n",
       " 8: 'iot_wemo_off',\n",
       " 9: 'cooking_recipe',\n",
       " 10: 'qa_currency',\n",
       " 11: 'transport_traffic',\n",
       " 12: 'general_quirky',\n",
       " 13: 'weather_query',\n",
       " 14: 'audio_volume_up',\n",
       " 15: 'email_addcontact',\n",
       " 16: 'takeaway_order',\n",
       " 17: 'email_querycontact',\n",
       " 18: 'iot_hue_lightup',\n",
       " 19: 'recommendation_locations',\n",
       " 20: 'play_audiobook',\n",
       " 21: 'lists_createoradd',\n",
       " 22: 'news_query',\n",
       " 23: 'alarm_query',\n",
       " 24: 'iot_wemo_on',\n",
       " 25: 'general_joke',\n",
       " 26: 'qa_definition',\n",
       " 27: 'social_query',\n",
       " 28: 'music_settings',\n",
       " 29: 'audio_volume_other',\n",
       " 30: 'calendar_remove',\n",
       " 31: 'iot_hue_lightdim',\n",
       " 32: 'calendar_query',\n",
       " 33: 'email_sendemail',\n",
       " 34: 'iot_cleaning',\n",
       " 35: 'audio_volume_down',\n",
       " 36: 'play_radio',\n",
       " 37: 'cooking_query',\n",
       " 38: 'datetime_convert',\n",
       " 39: 'qa_maths',\n",
       " 40: 'iot_hue_lightoff',\n",
       " 41: 'iot_hue_lighton',\n",
       " 42: 'transport_query',\n",
       " 43: 'music_likeness',\n",
       " 44: 'email_query',\n",
       " 45: 'play_music',\n",
       " 46: 'audio_volume_mute',\n",
       " 47: 'social_post',\n",
       " 48: 'alarm_set',\n",
       " 49: 'qa_factoid',\n",
       " 50: 'calendar_set',\n",
       " 51: 'play_game',\n",
       " 52: 'alarm_remove',\n",
       " 53: 'lists_remove',\n",
       " 54: 'transport_taxi',\n",
       " 55: 'recommendation_movies',\n",
       " 56: 'iot_coffee',\n",
       " 57: 'music_query',\n",
       " 58: 'play_podcasts',\n",
       " 59: 'lists_query'}"
      ]
     },
     "execution_count": 29,
     "metadata": {},
     "output_type": "execute_result"
    }
   ],
   "source": [
    "dic1 = {i:j for i, j in enumerate(INTENTS)}\n",
    "dic2 = {j:i for i, j in enumerate(INTENTS)}\n",
    "dic"
   ]
  },
  {
   "cell_type": "code",
   "execution_count": 32,
   "id": "be01b28f",
   "metadata": {},
   "outputs": [
    {
     "data": {
      "text/plain": [
       "'general_quirky'"
      ]
     },
     "execution_count": 32,
     "metadata": {},
     "output_type": "execute_result"
    }
   ],
   "source": [
    "dic[12]"
   ]
  },
  {
   "cell_type": "code",
   "execution_count": null,
   "id": "5ba69578",
   "metadata": {},
   "outputs": [],
   "source": []
  }
 ],
 "metadata": {
  "kernelspec": {
   "display_name": "Python 3 (ipykernel)",
   "language": "python",
   "name": "python3"
  },
  "language_info": {
   "codemirror_mode": {
    "name": "ipython",
    "version": 3
   },
   "file_extension": ".py",
   "mimetype": "text/x-python",
   "name": "python",
   "nbconvert_exporter": "python",
   "pygments_lexer": "ipython3",
   "version": "3.8.13"
  }
 },
 "nbformat": 4,
 "nbformat_minor": 5
}
